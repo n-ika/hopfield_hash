{
 "cells": [
  {
   "cell_type": "markdown",
   "metadata": {},
   "source": [
    "# Hopfield Network With Hashing - Hopfield"
   ]
  },
  {
   "cell_type": "markdown",
   "metadata": {},
   "source": [
    "This is a memory mechanism in a form of a Hopfield network. The stored items are called memory patterns. They are retrieved by a process of the input that is presented to the network dynamics which at some time step reaches a fixed stable point. This means that the input item has been recognized (i.e. there is a memory pattern identical or very similar to it).\n",
    "\n",
    "Even noisy sounds or those corrupted to some extent can be accessed. In other words, if the input is $x_1 + \\delta$ and the stored item is $x_1$, the network will still reach the fixed point of $x_1$ if $\\delta$ is small enough.\n",
    "\n",
    "Additionally, for storage purposes, sounds are transformed each into a hash - with this we reduce their dimensionality. This means we increase the storage capacity. "
   ]
  },
  {
   "cell_type": "code",
   "execution_count": 1,
   "metadata": {},
   "outputs": [],
   "source": [
    "# First, we load the neccessary dependencies.\n",
    "\n",
    "import numpy as np\n",
    "import math\n",
    "from python_speech_features import mfcc\n",
    "import scipy.io.wavfile as wav\n",
    "import sys\n",
    "import glob\n",
    "import random\n",
    "import matplotlib.pyplot as plt"
   ]
  },
  {
   "cell_type": "code",
   "execution_count": 2,
   "metadata": {},
   "outputs": [],
   "source": [
    "# Folder with some wav files to test this script.\n",
    "folder_train = \"./waveforms/\""
   ]
  },
  {
   "cell_type": "markdown",
   "metadata": {},
   "source": [
    "First, we will transform our .wav files into features, in this case MFCCs."
   ]
  },
  {
   "cell_type": "code",
   "execution_count": 3,
   "metadata": {},
   "outputs": [],
   "source": [
    "# Go through the folder and find all (and only) files ending with .wav\n",
    "# Here, we transform each .wav file into MFCCs and then flatten them into one vector\n",
    "# We do this because we want one hash per .wav file\n",
    "#\n",
    "# Arguments: sound folder\n",
    "# Returns: a list of flattened MFCC vectors\n",
    "\n",
    "\n",
    "def make_mfcc(folder):\n",
    "    vectors = []\n",
    "    for file in glob.glob(folder + \"*.wav\", recursive=True):\n",
    "        (rate,sig) = wav.read(file)\n",
    "        mfcc_feat = mfcc(sig,rate)\n",
    "        vect = mfcc_feat.flatten()\n",
    "        vectors.append(vect)\n",
    "    return vectors"
   ]
  },
  {
   "cell_type": "markdown",
   "metadata": {},
   "source": [
    "Now we will use these features and transform them into hash vectors, which we will use to store in our memory."
   ]
  },
  {
   "cell_type": "code",
   "execution_count": 23,
   "metadata": {},
   "outputs": [],
   "source": [
    "# Transform a vector of speech into a hash\n",
    "# The hash will be a matrix of the dimension = k*m\n",
    "# We choose a random number k of units of the vector.\n",
    "# And look for the highest value and turn it into 1.\n",
    "# Everything else is 0.\n",
    "# We thus get sparse matrices.\n",
    "# We do this m times. Final output is h=k*m.\n",
    "\n",
    "# 2 functions\n",
    "# initialisation - consstant call for dims\n",
    "# hash given init\n",
    "# link to ref\n",
    "\n",
    "# put silence at the end so all have the same length\n",
    "\n",
    "def get_hash(vector, k, m):\n",
    "    expected_h = np.array([[1,0,0],[0,0,1]]).flatten()\n",
    "    d = len(vector)\n",
    "    p = np.zeros((m,k,))\n",
    "    np.random.seed(2)\n",
    "    p1=np.random.permutation(5)\n",
    "    p2=np.random.permutation(5)\n",
    "    print(p1,p2)\n",
    "    for i in range(m):\n",
    "        p[i] = np.random.permutation(d)[:k]\n",
    "        \n",
    "    h = np.zeros((m,k,))\n",
    "    for i in range(m):\n",
    "        ix = np.argmax(p[i])\n",
    "        hi = np.zeros(k)\n",
    "        hi[ix] = 1\n",
    "        h[i] = hi\n",
    "    h = np.hstack(h)\n",
    "    return h"
   ]
  },
  {
   "cell_type": "markdown",
   "metadata": {},
   "source": [
    "We must now construct our neuron weight matrix that reopresents the connections between neurons of our memory network."
   ]
  },
  {
   "cell_type": "code",
   "execution_count": 4,
   "metadata": {},
   "outputs": [],
   "source": [
    "# Function for the matrix T (symmetric recurrent weight matrix)\n",
    "#\n",
    "# Arguments: \n",
    "# N (number of neurons), V (list of vectors in a hash form)\n",
    "\n",
    "def get_T(N, V):\n",
    "\n",
    "    T_sum = np.zeros((N,N))\n",
    "    for vect in V:\n",
    "        outer_prod = np.outer((2*vect - 1),(2*vect - 1))\n",
    "        T_sum += outer_prod\n",
    "        \n",
    "    return T_sum"
   ]
  },
  {
   "cell_type": "markdown",
   "metadata": {},
   "source": [
    "To see when we have reached a stable fixed point, we use the energy function E, which is a monotonically decreasing function - state changes continue until a local E is reached."
   ]
  },
  {
   "cell_type": "code",
   "execution_count": 5,
   "metadata": {},
   "outputs": [],
   "source": [
    "# Function for establishing the fixed (stable) point\n",
    "# E = - delta(V_i) * sum_j (T_ij * V_j)\n",
    "#\n",
    "# Arguments of the function 'energy':\n",
    "#\n",
    "# x0 - input vector for which we are establishing whether\n",
    "# it is similar to one of the stored memories or not\n",
    "# T - symmetric recurrent weight matrix\n",
    "# treshold - used to estimate whether the energy function has\n",
    "# not been decreasing for more than the given threshold\n",
    "\n",
    "\n",
    "def energy(x0, T, V, treshold):\n",
    "    E_t1 = 0\n",
    "    E = []\n",
    "    timestep = 0\n",
    "    for i in range(T.shape[0]):\n",
    "        for j in range(len(V)):\n",
    "            for k in range(len(V)):\n",
    "                E_t = E_t1\n",
    "                E_t1 -= 1/2 * (T[i,j] * x0[j] * V[k][j])\n",
    "                timestep += 1\n",
    "                E.append(E_t1)\n",
    "#         if abs(E_t - E_t1) < treshold:\n",
    "#             print(\"Timestep of this energy function was: \" + str(timestep))\n",
    "        return E\n",
    "        "
   ]
  },
  {
   "cell_type": "markdown",
   "metadata": {},
   "source": [
    "We can now inspect our memory network and test it:"
   ]
  },
  {
   "cell_type": "code",
   "execution_count": 14,
   "metadata": {},
   "outputs": [
    {
     "name": "stderr",
     "output_type": "stream",
     "text": [
      "WARNING:root:frame length (800) is greater than FFT size (512), frame will be truncated. Increase NFFT to avoid.\n",
      "WARNING:root:frame length (800) is greater than FFT size (512), frame will be truncated. Increase NFFT to avoid.\n"
     ]
    },
    {
     "name": "stdout",
     "output_type": "stream",
     "text": [
      "[2 4 1 3 0] [4 1 0 2 3]\n",
      "[2 3 4 0 1] [0 2 1 4 3]\n",
      "[1 2 3 0 4] [1 3 0 4 2]\n",
      "[2 4 1 3 0] [4 1 0 2 3]\n",
      "[4 0 1 3 2] [2 1 0 4 3]\n",
      "[1 4 0 3 2] [2 0 1 3 4]\n",
      "[2 4 1 3 0] [4 1 0 2 3]\n",
      "[4 0 1 3 2] [2 1 0 4 3]\n",
      "[1 4 0 3 2] [2 0 1 3 4]\n",
      "[2 4 1 3 0] [4 1 0 2 3]\n",
      "[3 1 0 4 2] [0 3 1 2 4]\n",
      "[3 1 0 2 4] [0 1 3 4 2]\n",
      "[2 4 1 3 0] [4 1 0 2 3]\n",
      "[4 0 1 3 2] [2 1 0 4 3]\n",
      "[1 4 0 3 2] [2 0 1 3 4]\n",
      "[2 4 1 3 0] [4 1 0 2 3]\n",
      "[4 2 0 1 3] [0 3 1 2 4]\n",
      "[4 2 0 3 1] [1 4 2 0 3]\n",
      "[2 4 1 3 0] [4 1 0 2 3]\n",
      "[3 1 0 4 2] [0 3 1 2 4]\n",
      "[3 1 0 2 4] [0 1 3 4 2]\n",
      "[2 4 1 3 0] [4 1 0 2 3]\n",
      "[4 0 1 3 2] [2 1 0 4 3]\n",
      "[1 4 0 3 2] [2 0 1 3 4]\n",
      "[2 4 1 3 0] [4 1 0 2 3]\n",
      "[4 0 1 3 2] [2 1 0 4 3]\n",
      "[1 4 0 3 2] [2 0 1 3 4]\n"
     ]
    }
   ],
   "source": [
    "# Test with random dimensions k, m, N, which determine the size of T and of hash vectors:\n",
    "\n",
    "k = 5\n",
    "m = 3\n",
    "N = 15\n",
    "V =[]\n",
    "\n",
    "mfccs_vectors = make_mfcc(folder_train)\n",
    "for vect in mfccs_vectors:\n",
    "    v = get_hash(vect, 5, 3)\n",
    "    V.append(v)\n",
    "\n",
    "T = get_T(N, V)"
   ]
  },
  {
   "cell_type": "markdown",
   "metadata": {},
   "source": [
    "Important assumption here is that Hopfield uses $V_i$ as a state of neuron activation which can have a value 0 (\"not firing\") or 1 (\"maximally firing\"). We also obtained 1s and 0s for hashing purposes (you can see what a vector will look like in a cell below). I am therefore here making an assumption that values in the hash vector equate whether the neuron is active or not, since I do not know how else to obtain the neuron activation (this assumption may be wrong). "
   ]
  },
  {
   "cell_type": "code",
   "execution_count": 8,
   "metadata": {},
   "outputs": [
    {
     "name": "stdout",
     "output_type": "stream",
     "text": [
      "[0. 0. 1. 0. 0. 0. 0. 0. 1. 0. 0. 0. 0. 1. 0.]\n"
     ]
    }
   ],
   "source": [
    "# We can inspect how one of our hashed vectors looks like:\n",
    "print(V[0])"
   ]
  },
  {
   "cell_type": "markdown",
   "metadata": {},
   "source": [
    "We can also see here how our matrix T (symmetric recurrent weight matrix) looks like:"
   ]
  },
  {
   "cell_type": "code",
   "execution_count": 9,
   "metadata": {},
   "outputs": [
    {
     "name": "stdout",
     "output_type": "stream",
     "text": [
      "[[ 9.  3. -1.  3.  7.  3.  5.  5.  1.  7.  5.  3.  5.  3.  5.]\n",
      " [ 3.  9. -3.  1.  5.  1.  3.  7. -1.  5.  3.  5. -1.  5.  3.]\n",
      " [-1. -3.  9. -3.  1.  1. -1. -1.  3.  1.  3.  1. -1.  1. -1.]\n",
      " [ 3.  1. -3.  9.  5.  5. -1.  3.  3.  5.  3.  1.  3.  1.  7.]\n",
      " [ 7.  5.  1.  5.  9.  5.  3.  7.  3.  9.  7.  5.  3.  5.  7.]\n",
      " [ 3.  1.  1.  5.  5.  9. -1.  3. -1.  5.  3.  1.  3.  1.  7.]\n",
      " [ 5.  3. -1. -1.  3. -1.  9.  1. -3.  3.  5. -1.  1.  3.  1.]\n",
      " [ 5.  7. -1.  3.  7.  3.  1.  9.  1.  7.  5.  7.  1.  3.  5.]\n",
      " [ 1. -1.  3.  3.  3. -1. -3.  1.  9.  3.  1.  3.  1.  3.  1.]\n",
      " [ 7.  5.  1.  5.  9.  5.  3.  7.  3.  9.  7.  5.  3.  5.  7.]\n",
      " [ 5.  3.  3.  3.  7.  3.  5.  5.  1.  7.  9.  3.  1.  3.  5.]\n",
      " [ 3.  5.  1.  1.  5.  1. -1.  7.  3.  5.  3.  9. -1.  1.  3.]\n",
      " [ 5. -1. -1.  3.  3.  3.  1.  1.  1.  3.  1. -1.  9. -1.  1.]\n",
      " [ 3.  5.  1.  1.  5.  1.  3.  3.  3.  5.  3.  1. -1.  9.  3.]\n",
      " [ 5.  3. -1.  7.  7.  7.  1.  5.  1.  7.  5.  3.  1.  3.  9.]]\n"
     ]
    }
   ],
   "source": [
    "# We can inspect how our transition matrix looks like:\n",
    "print(T)"
   ]
  },
  {
   "cell_type": "markdown",
   "metadata": {},
   "source": [
    "Now we will test our memory and see what the energy function of a vector already stored in memory is and compare it to a vector not stored in memory:"
   ]
  },
  {
   "cell_type": "code",
   "execution_count": 26,
   "metadata": {},
   "outputs": [
    {
     "name": "stdout",
     "output_type": "stream",
     "text": [
      "[0.0, -4.5, -9.0, -9.0, -13.5, -18.0, -18.0, -22.5, -27.0, -27.0, -27.0, -27.0, -27.0, -27.0, -27.0, -27.0, -27.0, -27.0, -22.5, -22.5, -22.5, -18.0, -18.0, -18.0, -13.5, -13.5, -13.5, -13.5, -13.5, -13.5, -13.5, -13.5, -13.5, -13.5, -13.5, -13.5, -13.5, -13.5, -13.5, -13.5, -13.5, -13.5, -13.5, -13.5, -13.5, -13.5, -13.5, -13.5, -13.5, -13.5, -13.5, -13.5, -13.5, -13.5, -13.5, -13.5, -13.5, -13.5, -13.5, -13.5, -13.5, -13.5, -13.5, -13.5, -13.5, -13.5, -13.5, -13.5, -13.5, -13.5, -13.5, -13.5, -13.5, -13.5, -13.5, -13.5, -13.5, -13.5, -13.5, -13.5, -13.5]\n"
     ]
    }
   ],
   "source": [
    "# Let us now see how the energy function works when we tested it:\n",
    "# E_test is a vector impossible to obtain from our hashing method - \n",
    "# it should show no fixed point\n",
    "# E_V0 uses as test the first hashed vector (identical to the stored data)\n",
    "E_test = energy([3, 1, 4, 1, 0, 0, 0, 0, 7, 0, 9, 0, 7, 0, 4], T, V, 0.000001)\n",
    "E_V0 = energy(V[0], T, V, 0.000001)\n",
    "\n",
    "# We can see the energy as it gradually stabilizes\n",
    "print(energy([1, 1, 1, 1, 1, 0, 0, 0, 0, 0, 0, 0, 0, 0, 0], T, V, 0.000001))"
   ]
  },
  {
   "cell_type": "code",
   "execution_count": 27,
   "metadata": {},
   "outputs": [
    {
     "data": {
      "image/png": "[encoded data removed]",
      "text/plain": [
       "<Figure size 432x288 with 1 Axes>"
      ]
     },
     "metadata": {
      "needs_background": "light"
     },
     "output_type": "display_data"
    }
   ],
   "source": [
    "# Let's plot the data\n",
    "\n",
    "plt.plot(E_test)\n",
    "plt.show()"
   ]
  },
  {
   "cell_type": "code",
   "execution_count": 28,
   "metadata": {},
   "outputs": [
    {
     "data": {
      "image/png": "[encoded data removed]",
      "text/plain": [
       "<Figure size 432x288 with 1 Axes>"
      ]
     },
     "metadata": {
      "needs_background": "light"
     },
     "output_type": "display_data"
    }
   ],
   "source": [
    "# And here is the energy data from our vector identical to stored memory\n",
    "plt.plot(E_V0)\n",
    "plt.show()"
   ]
  },
  {
   "cell_type": "code",
   "execution_count": 17,
   "metadata": {},
   "outputs": [
    {
     "name": "stdout",
     "output_type": "stream",
     "text": [
      "[2 4 1 3 0] [4 1 0 2 3]\n"
     ]
    },
    {
     "data": {
      "text/plain": [
       "array([0., 1., 0., 0., 1., 0.])"
      ]
     },
     "execution_count": 17,
     "metadata": {},
     "output_type": "execute_result"
    }
   ],
   "source": [
    "get_hash(np.array([6,4,5,9,2]), 3, 2)\n",
    "# input - specify a number of dimenzions taken in advance randomly - \n",
    "# we look at dimensions 1,2,3 - we put 1 at highest num\n",
    "# we redo this at 3 other dimensionsspecified in advance\n",
    "# make test function\n",
    "# [1,0,0,0,0,1]"
   ]
  },
  {
   "cell_type": "code",
   "execution_count": 39,
   "metadata": {
    "scrolled": true
   },
   "outputs": [
    {
     "name": "stdout",
     "output_type": "stream",
     "text": [
      "p is: \n",
      "[[2. 1. 4.]\n",
      " [2. 3. 1.]]\n",
      "hi is: \n",
      "[0. 0. 0.]\n",
      "[0. 0. 1.]\n",
      "hi is: \n",
      "[0. 0. 0.]\n"
     ]
    },
    {
     "ename": "IndexError",
     "evalue": "index 3 is out of bounds for axis 0 with size 3",
     "output_type": "error",
     "traceback": [
      "\u001b[0;31m---------------------------------------------------------------------------\u001b[0m",
      "\u001b[0;31mIndexError\u001b[0m                                Traceback (most recent call last)",
      "\u001b[0;32m<ipython-input-39-ea30fb8718d7>\u001b[0m in \u001b[0;36m<module>\u001b[0;34m\u001b[0m\n\u001b[1;32m     44\u001b[0m \u001b[0mvector\u001b[0m \u001b[0;34m=\u001b[0m \u001b[0mnp\u001b[0m\u001b[0;34m.\u001b[0m\u001b[0marray\u001b[0m\u001b[0;34m(\u001b[0m\u001b[0;34m[\u001b[0m\u001b[0;36m6\u001b[0m\u001b[0;34m,\u001b[0m\u001b[0;36m4\u001b[0m\u001b[0;34m,\u001b[0m\u001b[0;36m5\u001b[0m\u001b[0;34m,\u001b[0m\u001b[0;36m9\u001b[0m\u001b[0;34m,\u001b[0m\u001b[0;36m2\u001b[0m\u001b[0;34m]\u001b[0m\u001b[0;34m)\u001b[0m\u001b[0;34m\u001b[0m\u001b[0;34m\u001b[0m\u001b[0m\n\u001b[1;32m     45\u001b[0m \u001b[0;31m#np.random.seed(2)\u001b[0m\u001b[0;34m\u001b[0m\u001b[0;34m\u001b[0m\u001b[0;34m\u001b[0m\u001b[0m\n\u001b[0;32m---> 46\u001b[0;31m \u001b[0mprint\u001b[0m\u001b[0;34m(\u001b[0m\u001b[0mget_hash\u001b[0m\u001b[0;34m(\u001b[0m\u001b[0mvector\u001b[0m\u001b[0;34m,\u001b[0m \u001b[0;36m3\u001b[0m\u001b[0;34m,\u001b[0m \u001b[0;36m2\u001b[0m\u001b[0;34m)\u001b[0m\u001b[0;34m)\u001b[0m\u001b[0;34m\u001b[0m\u001b[0;34m\u001b[0m\u001b[0m\n\u001b[0m\u001b[1;32m     47\u001b[0m \u001b[0mprint\u001b[0m\u001b[0;34m(\u001b[0m\u001b[0mget_hash\u001b[0m\u001b[0;34m(\u001b[0m\u001b[0mvector\u001b[0m\u001b[0;34m,\u001b[0m \u001b[0;36m3\u001b[0m\u001b[0;34m,\u001b[0m \u001b[0;36m2\u001b[0m\u001b[0;34m)\u001b[0m\u001b[0;34m)\u001b[0m\u001b[0;34m\u001b[0m\u001b[0;34m\u001b[0m\u001b[0m\n\u001b[1;32m     48\u001b[0m \u001b[0;34m\u001b[0m\u001b[0m\n",
      "\u001b[0;32m<ipython-input-39-ea30fb8718d7>\u001b[0m in \u001b[0;36mget_hash\u001b[0;34m(vector, k, m)\u001b[0m\n\u001b[1;32m     34\u001b[0m         \u001b[0mprint\u001b[0m\u001b[0;34m(\u001b[0m\u001b[0;34m\"hi is: \"\u001b[0m\u001b[0;34m)\u001b[0m\u001b[0;34m\u001b[0m\u001b[0;34m\u001b[0m\u001b[0m\n\u001b[1;32m     35\u001b[0m         \u001b[0mprint\u001b[0m\u001b[0;34m(\u001b[0m\u001b[0mhi\u001b[0m\u001b[0;34m)\u001b[0m\u001b[0;34m\u001b[0m\u001b[0;34m\u001b[0m\u001b[0m\n\u001b[0;32m---> 36\u001b[0;31m         \u001b[0mhi\u001b[0m\u001b[0;34m[\u001b[0m\u001b[0mix\u001b[0m\u001b[0;34m]\u001b[0m \u001b[0;34m=\u001b[0m \u001b[0;36m1\u001b[0m\u001b[0;34m\u001b[0m\u001b[0;34m\u001b[0m\u001b[0m\n\u001b[0m\u001b[1;32m     37\u001b[0m         \u001b[0mprint\u001b[0m\u001b[0;34m(\u001b[0m\u001b[0mhi\u001b[0m\u001b[0;34m)\u001b[0m\u001b[0;34m\u001b[0m\u001b[0;34m\u001b[0m\u001b[0m\n\u001b[1;32m     38\u001b[0m         \u001b[0mh\u001b[0m\u001b[0;34m[\u001b[0m\u001b[0mi\u001b[0m\u001b[0;34m]\u001b[0m \u001b[0;34m=\u001b[0m \u001b[0mhi\u001b[0m\u001b[0;34m\u001b[0m\u001b[0;34m\u001b[0m\u001b[0m\n",
      "\u001b[0;31mIndexError\u001b[0m: index 3 is out of bounds for axis 0 with size 3"
     ]
    }
   ],
   "source": [
    "# 2 functions\n",
    "# initialisation - consstant call for dims\n",
    "# hash given init\n",
    "# link to ref\n",
    "\n",
    "# put silence at the end so all have the same length\n",
    "\n",
    "\n",
    "def hash_dim(vector,k,m):\n",
    "    d = len(vector)\n",
    "    p = np.zeros((m,k,))\n",
    "    np.random.seed(27)\n",
    "    for i in range(m):\n",
    "        p[i] = np.random.permutation(d)[:k]\n",
    "    print(\"p is: \")\n",
    "    print(p)\n",
    "    return p\n",
    "\n",
    "    \n",
    "def get_hash(vector, k, m):\n",
    "    p = hash_dim(vector,k,m).astype(int)\n",
    "#     p1=np.random.permutation(5)\n",
    "#     p2=np.random.permutation(5)\n",
    "#     print(p1,p2)\n",
    "\n",
    "    h = np.zeros((m,k,))\n",
    "    for i in range(m):\n",
    "        p_line = p[i]\n",
    "\n",
    "        max_value = np.argmax(vector[p_line])\n",
    "        ix = p_line[max_value]\n",
    "\n",
    "        hi = np.zeros(k)\n",
    "        print(\"hi is: \")\n",
    "        print(hi)\n",
    "        hi[ix] = 1\n",
    "        print(hi)\n",
    "        h[i] = hi\n",
    "    h = np.hstack(h)\n",
    "    return h\n",
    "\n",
    "\n",
    "expected_h = np.array([[1,0,0],[0,0,1]]).flatten()\n",
    "vector = np.array([6,4,5,9,2])\n",
    "#np.random.seed(2)\n",
    "print(get_hash(vector, 3, 2))\n",
    "print(get_hash(vector, 3, 2))\n",
    "\n",
    "# TEST\n",
    "# robustness\n",
    "# precision/recall\n",
    "# size of input that can be stocked\n",
    "# nature of stimuli\n",
    "# nature of hash"
   ]
  },
  {
   "cell_type": "code",
   "execution_count": 42,
   "metadata": {},
   "outputs": [
    {
     "name": "stdout",
     "output_type": "stream",
     "text": [
      "[2 1 0]\n",
      "[10 11 12]\n",
      "2\n",
      "0\n",
      "[2]\n"
     ]
    }
   ],
   "source": [
    "np.random.seed(7)\n",
    "test = np.array([12,11,10,9,37])\n",
    "n = np.random.permutation(3)\n",
    "print(n)\n",
    "print(test[n])\n",
    "\n",
    "max_value = np.argmax(test[n])\n",
    "max_value_ix = n[max_value]\n",
    "print(max_value)\n",
    "print(max_value_ix)\n",
    "ix = np.where(n == max_value_ix)[0]\n",
    "print(ix)"
   ]
  },
  {
   "cell_type": "code",
   "execution_count": null,
   "metadata": {},
   "outputs": [],
   "source": []
  },
  {
   "cell_type": "code",
   "execution_count": null,
   "metadata": {},
   "outputs": [],
   "source": []
  }
 ],
 "metadata": {
  "kernelspec": {
   "display_name": "Python 3",
   "language": "python",
   "name": "python3"
  },
  "language_info": {
   "codemirror_mode": {
    "name": "ipython",
    "version": 3
   },
   "file_extension": ".py",
   "mimetype": "text/x-python",
   "name": "python",
   "nbconvert_exporter": "python",
   "pygments_lexer": "ipython3",
   "version": "3.8.2"
  }
 },
 "nbformat": 4,
 "nbformat_minor": 4
}
