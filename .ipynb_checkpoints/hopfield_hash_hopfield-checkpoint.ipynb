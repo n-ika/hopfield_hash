{
 "cells": [
  {
   "cell_type": "markdown",
   "metadata": {},
   "source": [
    "# Hopfield Network With Hashing - Hopfield"
   ]
  },
  {
   "cell_type": "markdown",
   "metadata": {},
   "source": [
    "This is a memory mechanism in a form of a Hopfield network. The stored items are called memory patterns. They are retrieved by a process of the input that is presented to the network dynamics which at some time step reaches a fixed stable point. This means that the input item has been recognized (i.e. there is a memory pattern identical or very similar to it).\n",
    "\n",
    "Even noisy sounds or those corrupted to some extent can be accessed. In other words, if the input is $x_1 + \\delta$ and the stored item is $x_1$, the network will still reach the fixed point of $x_1$ if $\\delta$ is small enough.\n",
    "\n",
    "Additionally, for storage purposes, sounds are transformed each into a hash - with this we reduce their dimensionality. This means we increase the storage capacity. \n",
    "\n",
    "# Build the system\n",
    "\n",
    "### Load dependencies"
   ]
  },
  {
   "cell_type": "code",
   "execution_count": 1,
   "metadata": {},
   "outputs": [],
   "source": [
    "# First, we load the neccessary dependencies.\n",
    "\n",
    "import numpy as np\n",
    "import math\n",
    "import librosa\n",
    "import scipy.io.wavfile as wav\n",
    "import sys\n",
    "import glob\n",
    "import pickle\n",
    "import random\n",
    "import seaborn\n",
    "import pandas as pd\n",
    "import seaborn as sns\n",
    "import matplotlib.pyplot as plt\n",
    "from fractions import Fraction\n",
    "\n",
    "%matplotlib inline"
   ]
  },
  {
   "cell_type": "code",
   "execution_count": 353,
   "metadata": {},
   "outputs": [],
   "source": [
    "# Folder with some wav files to test this script.\n",
    "\n",
    "folder_train = \"./wavs/\"\n",
    "\n",
    "test_folder = \"./test_wavs/\""
   ]
  },
  {
   "cell_type": "markdown",
   "metadata": {},
   "source": [
    "### Extract Features\n",
    "\n",
    "First, we will transform our .wav files into features, in this case MFCCs."
   ]
  },
  {
   "cell_type": "code",
   "execution_count": 354,
   "metadata": {},
   "outputs": [],
   "source": [
    "def make_mfcc(folder):\n",
    "    \"\"\"\n",
    "    Go through the folder and find all (and only) files ending with .wav\n",
    "    Here, we transform each .wav file into MFCCs and then flatten them into one vector.\n",
    "    We do this because we want one hash per .wav file.\n",
    "    \n",
    "    Any file shorter than the longest file in the folder will be padded with values 0,\n",
    "    so that all concatenated file vectors are of the same length.\n",
    "    \n",
    "    Parameters\n",
    "    ----------\n",
    "    folder : path to folder with wav sounds\n",
    "    \n",
    "    Returns\n",
    "    -------\n",
    "    a list of flattened MFCC vectors\n",
    "    \"\"\"\n",
    "    vectors = []\n",
    "    for file in glob.glob(folder + \"*.wav\", recursive=True):\n",
    "        y, sr = librosa.load(file)\n",
    "        mfcc_feat = librosa.feature.mfcc(y=y, sr=sr)\n",
    "        vect = mfcc_feat.flatten()\n",
    "        vectors.append(vect)\n",
    "        print(len(vectors), \" mfccs done\")\n",
    "    # find the largest vector\n",
    "    max_length = len(max(vectors, key=lambda p: len(p)))\n",
    "    # append zeros to all the other vectors\n",
    "    for i in range(len(vectors)):\n",
    "        vectors[i] = np.pad(vectors[i], (0,max_length-len(vectors[i])))\n",
    "    return vectors"
   ]
  },
  {
   "cell_type": "markdown",
   "metadata": {},
   "source": [
    "### Hashing of features\n",
    "\n",
    "Now we will use these features and transform them into hash vectors, which we will use to store in our memory. We do this to facilitate memory storage: hashes are vectors with reduced dimensionality, with values mostly equal to 0 and a few of them equal to 1."
   ]
  },
  {
   "cell_type": "code",
   "execution_count": 355,
   "metadata": {},
   "outputs": [],
   "source": [
    "def hash_dim(d,k,m,seed):  \n",
    "    \n",
    "    \"\"\"\n",
    "    Define hash parameters.\n",
    "    The hash will be a matrix of the dimension = k*m\n",
    "    We choose a random number k of units of the vector.\n",
    "    \n",
    "    Parameters\n",
    "    ----------\n",
    "    d : num\n",
    "        Length of a random vector being stored\n",
    "    k : num\n",
    "        Number of units we randomly choose of the vector\n",
    "    m : num\n",
    "        Number of times we will  do the hashing for some vector\n",
    "    seed : num\n",
    "        We always want the same units randomly chosen\n",
    "        \n",
    "    Returns\n",
    "    -------\n",
    "    a numpy array \n",
    "        p of dimensions [k,m] represents randomly chosen dimensions\n",
    "    \n",
    "    \"\"\"   \n",
    "    assert k <= d\n",
    "    p = np.zeros((m,k,))\n",
    "    np.random.seed(seed)\n",
    "    for i in range(m):\n",
    "        p[i] = np.random.permutation(d)[:k]\n",
    "    return p\n",
    "\n",
    "    \n",
    "def get_hash(vector, k, m, p): \n",
    "    \"\"\"\n",
    "    Transform a vector of speech into a hash\n",
    "    The hash will be a matrix of the dimension = k*m\n",
    "    \n",
    "    Once we have chosen k random dimensions, we look for the highest \n",
    "    value and turn it into 1. Everything else is 0.\n",
    "    We thus get sparse matrices.\n",
    "    We do this m times. Final output is h=k*m.\n",
    "    \n",
    "    Parameters\n",
    "    ----------\n",
    "    vector : np.array\n",
    "        Features (i.e. MFCC) of some sound with dim = 1*n\n",
    "    k : num\n",
    "        Number of units we randomly choose of the vector\n",
    "    m : num\n",
    "        Number of times we will do the hashing for some vector.\n",
    "    p : numpy array\n",
    "        p of dimensions [k,m] represents randomly chosen dimensions\n",
    "        \n",
    "    Returns\n",
    "    -------\n",
    "    a numpy array h of size [1, k*m]\n",
    "    \"\"\"\n",
    "    h = np.zeros((m,k,))\n",
    "    for i in range(m):\n",
    "        p_line = p[i].astype(int)\n",
    "        ix = np.argmax(vector[p_line])\n",
    "        hi = np.zeros(k)\n",
    "        hi[ix] = 1\n",
    "        h[i] = hi\n",
    "    h = np.hstack(h)\n",
    "    return h"
   ]
  },
  {
   "cell_type": "code",
   "execution_count": 356,
   "metadata": {},
   "outputs": [
    {
     "name": "stdout",
     "output_type": "stream",
     "text": [
      "This is a test hash:  [1. 0. 0. 0. 0. 1.]\n"
     ]
    }
   ],
   "source": [
    "# TEST\n",
    "\n",
    "expected_h = np.array([[1,0,0],[0,0,1]]).flatten()\n",
    "vector = np.array([6,4,5,9,2])\n",
    "# %timeit hash_dim(len(vector),3,2,2).astype(int)\n",
    "p0 = hash_dim(len(vector),3,2,2).astype(int)\n",
    "print(\"This is a test hash: \", get_hash(vector, 3, 2, p0))\n",
    "assert get_hash(vector, 3, 2, p0).all() == expected_h.all()"
   ]
  },
  {
   "cell_type": "markdown",
   "metadata": {},
   "source": [
    "### Memory storage\n",
    "\n",
    "We must now construct our neuron weight matrix that reopresents the connections between neurons of our memory network.\n",
    "We will first initialize our matrix representing the synaptic weights and then enable subsequent addition of new memories.\n",
    "\n",
    "Synaptic weight matrix is a matrix that represents connections between each and every neuron. Every neuron has a state which can be active or inactive. Initialization of synaptic weights will make the connection between two neurons such that it is strengthened if both neurons are active (and the other way round, it will weaken the connection if one of the neurons is inactive)."
   ]
  },
  {
   "cell_type": "code",
   "execution_count": 357,
   "metadata": {},
   "outputs": [],
   "source": [
    "def initialize_network(N, p, V=None):\n",
    "    \"\"\"\n",
    "    Eq. (2) from [1]\n",
    "    \n",
    "    Initialize synaptic weights in form of matrix T (symmetric recurrent weight matrix).\n",
    "    This is a memory storage.\n",
    "    \n",
    "    Parameters\n",
    "    ----------\n",
    "    N : num\n",
    "        number of neurons\n",
    "    V : list\n",
    "        list of vectors in a hash form\n",
    "    p : num\n",
    "        sparsity - probability of a value being 1\n",
    "    Returns\n",
    "    -------\n",
    "    a numpy array T of shape (N, N)\n",
    "        Memory storage in form of a matrix (synaptic weights)\n",
    "        Its dimensions are determined by N=k*m (hash parameters)\n",
    "    \"\"\"\n",
    "    \n",
    "    T = np.zeros((N,N))\n",
    "    if not(V is None):\n",
    "        for vect in V:\n",
    "            T = add_memory(T, vect, p)  \n",
    "    return T\n",
    "\n",
    "\n",
    "def add_memory(T, new_memory, p):\n",
    "    \"\"\"\n",
    "    Eq. (2) from [1]\n",
    "    \n",
    "    Update synaptic weights in form of matrix T (symmetric recurrent weight matrix) when adding new memory.\n",
    "    \n",
    "    Parameters\n",
    "    ----------\n",
    "    T : a numpy array T_sum of shape (N, N)\n",
    "        Initialized memory storage in form of a matrix (synaptic weights)\n",
    "    new_memory : numpy array of shape (1,N)\n",
    "        a vector we wish to store\n",
    "    p : num\n",
    "        a number representing the probability of a value being 1 (i.e. sparsity)\n",
    "        \n",
    "    Returns\n",
    "    -------\n",
    "    a numpy array T of shape (N, N)\n",
    "        Renewed memory storage in form of a matrix (synaptic weights)\n",
    "        Its dimensions are determined by N=k*m (hash parameters)\n",
    "    \"\"\"\n",
    "    N = np.shape(T)[0]\n",
    "#     if method == \"default\":\n",
    "#         v = 2*new_memory - 1 #hopfield\n",
    "\n",
    "    v = new_memory - p #tsodyks\n",
    "#     elif method == \"amits\":\n",
    "#         v = 2*new_memory - 2*p #amits\n",
    "    outer_prod = np.outer(v,v)\n",
    "    np.fill_diagonal(outer_prod, 0)\n",
    "    T += outer_prod\n",
    "        \n",
    "    return T"
   ]
  },
  {
   "cell_type": "markdown",
   "metadata": {},
   "source": [
    "### Memory retrieval\n",
    "\n",
    "When we want to retrieve a memory, we start with some initial state and then observe the dynamics of the system - if it reaches a stable point, we have accessed to either some stored memory or to a state by default where we can end up if we have not stored something similar to initial state.\n",
    "\n",
    "In other words, we can represent this as a surface with differently sized bumps. We put a ball on this surface and it will roll into the nearest pit, unless we already put it on the already lowest point of the pit.\n",
    "\n",
    "To check whether this lowest point (or stable/fixed point) was reached, we check stability of being there - have we been here a few moments ago? "
   ]
  },
  {
   "cell_type": "code",
   "execution_count": 7,
   "metadata": {},
   "outputs": [],
   "source": [
    "# Not up to date\n",
    "def energy(T, V, g=1, p=0.5, adapted=False):\n",
    "    \"\"\"\n",
    "    Eq. (7) from [1]\n",
    "    \n",
    "    Energy of the system is a monotonically decreasing function.\n",
    "    \n",
    "    Parameters\n",
    "    ----------\n",
    "    T : a numpy array of shape (N, N)\n",
    "        Memory in form of a matrix (synaptic weights)\n",
    "    V : numpy array\n",
    "        a list of states of activation\n",
    "        \n",
    "    Returns\n",
    "    -------\n",
    "    num\n",
    "        Energy of the system\n",
    "    \"\"\"\n",
    "    E = 0\n",
    "    N = np.shape(T)[0] # num of neurons\n",
    "    for i in range(T.shape[0]):\n",
    "        for j in range(T.shape[1]):\n",
    "            if adapted==True:\n",
    "                M = sum(V[i])\n",
    "                a = 2*p-1\n",
    "                E -= 1/2 * (T[i,j] * V[i] * V[j]) - (g/(2*N))*(M-N*a)^2\n",
    "            else:\n",
    "                E -= 1/2 * (T[i,j] * V[i] * V[j])\n",
    "    return E"
   ]
  },
  {
   "cell_type": "code",
   "execution_count": 358,
   "metadata": {},
   "outputs": [],
   "source": [
    "def retrieve_memory(T, V0, U=0, downstate=0, full_trace=True, SEED=27, check_frequency=1):\n",
    "    \"\"\"\n",
    "    Eq. (1) from [1]\n",
    "    \n",
    "    To retrieve a memory, we want to find the stable/fixed point of the \n",
    "    dynamic network represented by matrix T (synaptic weights in which\n",
    "    the memory is stored) when starting from vector V.\n",
    "\n",
    "    Parameters\n",
    "    ----------\n",
    "    T : a numpy array T of shape (N, N)\n",
    "        Memory in form of a matrix (synaptic weights)\n",
    "    V0 : a numpy array of shape (1, N)\n",
    "        a vector with which we initialize the network activity (check if it is stored in T)\n",
    "    g : num\n",
    "        parameter\n",
    "    U : num\n",
    "        a scalar representing the threshold of neuron's state of activity.\n",
    "        Set to 0 by default.\n",
    "        \"With a threshold of 0, the system behaves as a forced categorizer.\" [1]\n",
    "    full_trace : boolean\n",
    "        Set to True by default. This means we will keep all the changes of the initial neuron states\n",
    "        as they change through time.\n",
    "    SEED : num\n",
    "        Used for the random choices of indices, which we can control for replication by always \n",
    "        setting the seed to the same number.\n",
    "        \n",
    "    Returns\n",
    "    -------\n",
    "    a numpy array of shape (1, N)\n",
    "        We return the new / denoised V\n",
    "    \"\"\"\n",
    "    random.seed(SEED)\n",
    "    conv_check_spacing = len(V0)*check_frequency \n",
    "    \n",
    "    V = V0.copy()\n",
    "    if full_trace:\n",
    "        V_history = [V.copy()]\n",
    "    j = 0\n",
    "    while not has_converged(T, U, V, downstate):\n",
    "#         j += 1\n",
    "#         if np.mod(j, 10) == 0:\n",
    "#             print(V)\n",
    "        for _ in range(conv_check_spacing):\n",
    "            i = random.randrange(V.shape[0])\n",
    "            V[i] = update_neuron(T, U, V, i, downstate)\n",
    "            if full_trace:\n",
    "                V_history.append(V.copy())\n",
    "\n",
    "    if full_trace:\n",
    "        return V_history\n",
    "    else:\n",
    "        return V\n",
    "\n",
    "\n",
    "def update_neuron(T, U, V, i, downstate=0):\n",
    "    \"\"\"\n",
    "    We calculate sum_j {T_ji * V[j]}, where T_ij is our synaptic weight between neuron j and i\n",
    "    and V[j] is a j-th neuron state \n",
    "    \n",
    "    Parameters\n",
    "    ----------\n",
    "    T : a numpy array T_sum of shape (N, N)\n",
    "        Initialized memory storage in form of a matrix (synaptic weights)\n",
    "    V : num\n",
    "        a scalar representing the neural network state\n",
    "        \n",
    "    Returns\n",
    "    -------\n",
    "    num\n",
    "        We return the sum of all components of i-th column of T, each multiplied by V_j\n",
    "    \"\"\"\n",
    "    membrane_potential = sum(T[:,i] * V)\n",
    "    new_V_i = check_threshold(membrane_potential, U, downstate)\n",
    "    return new_V_i\n",
    "\n",
    "\n",
    "\n",
    "def check_threshold(membrane_potential, U, downstate):\n",
    "    \"\"\"\n",
    "    Check whether the sum of T_ij * V_j is bigger or smaller than the threshold U\n",
    "\n",
    "    Parameters\n",
    "    ----------\n",
    "    membrane_potential : num\n",
    "        Sum over T_ij * V_j\n",
    "    U : num\n",
    "        a scalar representing a threshold of neuron's state of activity\n",
    "        \n",
    "    Returns\n",
    "    -------\n",
    "    num\n",
    "        We return either 0 or 1, depending on TV_sum being smaller\n",
    "        or larger than the threshold U\n",
    "    \"\"\"\n",
    "    if membrane_potential > U:\n",
    "        return 1\n",
    "    else:\n",
    "        return 0\n",
    "    \n",
    "    \n",
    "def has_converged(T, U, V, downstate):\n",
    "    \"\"\"\n",
    "    Check whether the new V_i is the same as i-th value of V\n",
    "    and whether the current energy is equal to the previous one\n",
    "\n",
    "    Parameters\n",
    "    ----------\n",
    "    V_i : num\n",
    "        state of V's i-th neuron (either active: 1, or inactive: 0)\n",
    "    V : num\n",
    "        a numpy array representing all current neurons' states of activity\n",
    "    i : num\n",
    "        current randomly chosen index\n",
    "    E_list : list\n",
    "        list of all energy values so far\n",
    "        \n",
    "    Returns\n",
    "    -------\n",
    "    boolean\n",
    "        We return False if we satisfy at least one of the conditions,\n",
    "        else we return True\n",
    "    \"\"\"\n",
    "    converged = True\n",
    "    for i, V_i in enumerate(V):\n",
    "        updated_V_i = update_neuron(T, U, V, i, downstate)\n",
    "        if updated_V_i != V_i:\n",
    "            converged = False\n",
    "            break\n",
    "    return converged "
   ]
  },
  {
   "cell_type": "code",
   "execution_count": 359,
   "metadata": {},
   "outputs": [
    {
     "name": "stdout",
     "output_type": "stream",
     "text": [
      "Toy T matrix: \n",
      " [[ 0.   -0.18]\n",
      " [-0.18  0.  ]]\n",
      "Retrieved memory of [0,0] - unstored:\n",
      " [array([0, 0])]\n",
      "Retrieved memory of [1,1] - unstored:\n",
      " [array([1, 1]), array([1, 0]), array([1, 0]), array([1, 0]), array([0, 0])]\n",
      "Retrieved memory of [9,9] - unstored:\n",
      " [array([9, 9]), array([9, 0]), array([9, 0]), array([9, 0]), array([0, 0])]\n",
      "Retrieved memory of [0,1] - stored:\n",
      " [array([0, 1]), array([0, 0]), array([0, 0])]\n"
     ]
    }
   ],
   "source": [
    "# TEST\n",
    "\n",
    "toy_V1 = np.array([0,1])\n",
    "toy_V2 = np.array([1,0])\n",
    "# %timeit initialize_network(2, [toy_V1, toy_V2])\n",
    "toy_T = initialize_network(2, 0.1, [toy_V1, toy_V2])\n",
    "print(\"Toy T matrix: \\n\", toy_T)\n",
    "print(\"Retrieved memory of [0,0] - unstored:\\n\", retrieve_memory(toy_T, np.array([0,0])))\n",
    "print(\"Retrieved memory of [1,1] - unstored:\\n\", retrieve_memory(toy_T, np.array([1,1])))\n",
    "print(\"Retrieved memory of [9,9] - unstored:\\n\", retrieve_memory(toy_T, np.array([9,9])))\n",
    "print(\"Retrieved memory of [0,1] - stored:\\n\", retrieve_memory(toy_T, toy_V1))"
   ]
  },
  {
   "cell_type": "markdown",
   "metadata": {},
   "source": [
    "## Load or make speech vectors"
   ]
  },
  {
   "cell_type": "code",
   "execution_count": 25,
   "metadata": {},
   "outputs": [],
   "source": [
    "# REAL VECTORS, ALL FILES - SAVE\n",
    "\n",
    "# Uncomment to make MFCCs\n",
    "\n",
    "# mfccs_vectors = make_mfcc(folder_train)\n",
    "# # store the mfccs as a pickle file \n",
    "# with open(\"vectors.txt\", \"wb\") as fp:\n",
    "#      pickle.dump(mfccs_vectors, fp)"
   ]
  },
  {
   "cell_type": "code",
   "execution_count": null,
   "metadata": {},
   "outputs": [],
   "source": [
    "# TEST VECTORS, ONLY 4 FILES - SAVE\n",
    "\n",
    "# mfccs_vectors = make_mfcc(test_folder)\n",
    "# # store the mfccs as a pickle file \n",
    "# with open(\"test_vectors.txt\", \"wb\") as fp:\n",
    "#      pickle.dump(mfccs_vectors, fp)"
   ]
  },
  {
   "cell_type": "code",
   "execution_count": 360,
   "metadata": {},
   "outputs": [
    {
     "data": {
      "text/plain": [
       "12980"
      ]
     },
     "execution_count": 360,
     "metadata": {},
     "output_type": "execute_result"
    }
   ],
   "source": [
    "# LOAD ALL MFCCS\n",
    "\n",
    "with open(\"vectors.txt\", \"rb\") as fp:\n",
    "     mfccs_vectors = pickle.load(fp)\n",
    "\n",
    "# length of an utterance vector\n",
    "len(mfccs_vectors[1])"
   ]
  },
  {
   "cell_type": "markdown",
   "metadata": {},
   "source": [
    "### HASH THE DATASET"
   ]
  },
  {
   "cell_type": "code",
   "execution_count": 361,
   "metadata": {},
   "outputs": [],
   "source": [
    "def hash_dataset(mfccs_vectors, k, m, SEED):\n",
    "    \"\"\"\n",
    "    Make a hashed dataset with parameters k and m and with the extracted mfccs.\n",
    "\n",
    "    Parameters\n",
    "    ----------\n",
    "    mfccs_vectors : numpy array\n",
    "        array of mfcc vector arrays extracted from an audio file, each array is a file\n",
    "    k : num\n",
    "        Number of units we randomly choose of the vector\n",
    "    m : num\n",
    "        Number of times we will do the hashing for some vector.\n",
    "    Returns\n",
    "    -------\n",
    "    list\n",
    "        We return a list of numpy arrays, each representing a hashed audio file\n",
    "    \"\"\"\n",
    "    d = len(mfccs_vectors[0])\n",
    "    V =[]\n",
    "    p = hash_dim(d,k,m,SEED).astype(int)\n",
    "    for vect in mfccs_vectors:\n",
    "        v = get_hash(vect, k, m, p)\n",
    "        V.append(v) \n",
    "    return V"
   ]
  },
  {
   "cell_type": "markdown",
   "metadata": {},
   "source": [
    "# TESTS\n",
    "\n",
    "We can now inspect our memory network and test it:"
   ]
  },
  {
   "cell_type": "markdown",
   "metadata": {},
   "source": [
    "## TEST: PRECISION RECALL"
   ]
  },
  {
   "cell_type": "code",
   "execution_count": 362,
   "metadata": {},
   "outputs": [],
   "source": [
    "def precision_recall(T, V_train, V_test, N, U, DOWNSTATE):\n",
    "    \"\"\"\n",
    "    Perform a precision recall test on chosen files and parameters.\n",
    "\n",
    "    Parameters\n",
    "    ----------\n",
    "    T : a numpy array T of shape (N, N)\n",
    "        Memory in form of a matrix (synaptic weights)\n",
    "    V_train : list of arrays (hashed features)\n",
    "        The data we train our memory system on\n",
    "    V_test : list of arrays (hashed features)\n",
    "        The data we tast the memory system on\n",
    "    N : num\n",
    "        N=k*m, where k is the number of zeros in the hashed vector, m is number of ones\n",
    "    U : num\n",
    "        Chosen threshold above which the neuron is active\n",
    "    Returns\n",
    "    -------\n",
    "    num\n",
    "        We return values of hits, false alarms, correct rejections, misses\n",
    "    \"\"\"\n",
    "    \n",
    "    correct_rejection = 0\n",
    "    false_alarm = 0\n",
    "    default = np.zeros(N)\n",
    "    for v in V_test:\n",
    "        memory = retrieve_memory(T, v, U=U, downstate=DOWNSTATE, full_trace=False)\n",
    "        if np.array_equal(memory, default):\n",
    "            correct_rejection += 1\n",
    "        else:\n",
    "            false_alarm += 1\n",
    "    correct_rejection = correct_rejection/len(V_test)\n",
    "    false_alarm = false_alarm/len(V_test)\n",
    "\n",
    "    hits = 0\n",
    "    miss = 0\n",
    "    default = np.zeros(N)\n",
    "    for v in V_train:\n",
    "        memory = retrieve_memory(T, v, U=U, downstate=DOWNSTATE, full_trace=False)\n",
    "        if np.array_equal(memory, default):\n",
    "            miss += 1\n",
    "        else:\n",
    "            hits += 1\n",
    "    hits = hits/len(V_train)\n",
    "    miss = miss/len(V_train)\n",
    "    \n",
    "    \n",
    "    return hits, false_alarm, correct_rejection, miss"
   ]
  },
  {
   "cell_type": "markdown",
   "metadata": {},
   "source": [
    "## TEST: COUNT ERRORS"
   ]
  },
  {
   "cell_type": "code",
   "execution_count": null,
   "metadata": {},
   "outputs": [],
   "source": [
    "def count_errors(initial_state, retrieved_state):\n",
    "    equality_values = initial_state == retrieved_state\n",
    "    count = np.count_nonzero(equality_values)\n",
    "    return(len(equality_values)-count)"
   ]
  },
  {
   "cell_type": "markdown",
   "metadata": {},
   "source": [
    "## TEST: DISTANCE"
   ]
  },
  {
   "cell_type": "code",
   "execution_count": 421,
   "metadata": {},
   "outputs": [],
   "source": [
    "def calculate_distance(initial_state, retrieved_state, N, decision):\n",
    "    equality_values = initial_state == retrieved_state\n",
    "    count = np.count_nonzero(equality_values)\n",
    "    dist = count / N\n",
    "    if dist > decision:\n",
    "        familiarity = 1\n",
    "    else:\n",
    "        familiarity = 0\n",
    "    return(familiarity)"
   ]
  },
  {
   "cell_type": "markdown",
   "metadata": {},
   "source": [
    "## TEST MEMORY MAIN"
   ]
  },
  {
   "cell_type": "code",
   "execution_count": 448,
   "metadata": {},
   "outputs": [],
   "source": [
    "def test_memory(METHOD, TEST, mfccs_vectors=None, U = 0, N = 100, g = 100, p_list = [0.01, 0.1, 0.5], n_list = [5, 10, 15], SEED = 27):\n",
    "\n",
    "    DOWNSTATE = 0\n",
    "    \n",
    "    if TEST == \"errors\":\n",
    "        results = {\"threshold\":[], \"N\":[], \"n\":[], \"errors\":[], \"p\":[]}\n",
    "    if TEST == \"PR\":\n",
    "        results = {\"threshold\":[], \"N\":[], \"n\":[], \"TPR\":[], \"FPR\":[], \"p\":[]}\n",
    "    if TEST == \"distance\":\n",
    "        results = {\"threshold\":[], \"N\":[], \"n\":[], \"familiarity\":[], \"p\":[]}\n",
    "        \n",
    "    for p in p_list:\n",
    "        if mfccs_vectors == None:\n",
    "            V = []\n",
    "            for n in range(0,100):\n",
    "                rndm_vect = np.random.binomial(1, p, size=N)\n",
    "                V.append(rndm_vect)\n",
    "\n",
    "        else:\n",
    "            k = int(1/p)\n",
    "            assert k == 1/p\n",
    "            m = int(N/k)\n",
    "            assert m == N/k, (m,N/k)\n",
    "            print(\"k, m: \", k, m)       \n",
    "            V = hash_dataset(mfccs_vectors, k, m, SEED)\n",
    "\n",
    "        for n in n_list:\n",
    "            \n",
    "            V_train = V[:n]\n",
    "            V_test = V[:n+n]\n",
    "            \n",
    "            if METHOD == \"default\":\n",
    "                T_I = initialize_network(N, 0.5, V_train) # no inhibition\n",
    "                U_eff = U\n",
    "            elif METHOD == \"sparsity\":\n",
    "                T_I = initialize_network(N, p, V_train) # no inhibition\n",
    "                U_eff = U\n",
    "            elif METHOD == \"amits\":\n",
    "                T = initialize_network(N, p, V_train)            \n",
    "    #             a=2*p-1\n",
    "                T_I = T-g/N # with inhibition\n",
    "                np.fill_diagonal(T_I, 0)\n",
    "                U_eff = U+g*(.5/N-p)\n",
    "            elif METHOD == \"tsodyks\":\n",
    "                T_I = initialize_network(N, p, V_train)  # no inhibition          \n",
    "                U_eff = U+N*p\n",
    "            elif METHOD == \"both\":\n",
    "                T = initialize_network(N, p, V_train)\n",
    "                T_I = T-g/N # with inhibition\n",
    "                U_eff = U+N*p+g*(.5/N-p)\n",
    "\n",
    "            # Test the system with the same vectors that are stored in memory\n",
    "            # Check how many values of each state has changed\n",
    "            for (i, memory_state) in enumerate(V_test):\n",
    "                retrieved_state = retrieve_memory(T_I, memory_state, U=U_eff, downstate=DOWNSTATE, full_trace=False)\n",
    "                \n",
    "                if TEST == \"errors\":\n",
    "                    counts = count_errors(memory_state, retrieved_state)\n",
    "                    results[\"errors\"].append(counts)\n",
    "                \n",
    "                elif TEST == \"PR\":\n",
    "                    hit, fa, corr_rej, miss = precision_recall(T_I, V_train, V_test, N, U_eff, DOWNSTATE)\n",
    "                    if hit + miss == 0:\n",
    "                        TPR = np.NaN\n",
    "                    else:\n",
    "                        TPR = hit / (hit + miss)\n",
    "                    if fa + corr_rej == 0:\n",
    "                        FPR = np.NaN\n",
    "                    else:\n",
    "                        FPR = fa / (fa + corr_rej)\n",
    "                    results[\"TPR\"].append(TPR)\n",
    "                    results[\"FPR\"].append(FPR)\n",
    "                \n",
    "                elif TEST == \"distance\":\n",
    "                    dist = calculate_distance(memory_state, retrieved_state, N, 0.75)\n",
    "                    results[\"familiarity\"].append(dist)\n",
    "                    \n",
    "                results[\"threshold\"].append(U_eff)\n",
    "                results[\"N\"].append(N)\n",
    "                results[\"n\"].append(n)\n",
    "                results[\"p\"].append(p)\n",
    "\n",
    "    results = pd.DataFrame(results)   \n",
    "    return(results)"
   ]
  },
  {
   "cell_type": "markdown",
   "metadata": {},
   "source": [
    "### Precision recall with artificial or hashed stimuli"
   ]
  },
  {
   "cell_type": "code",
   "execution_count": 418,
   "metadata": {},
   "outputs": [
    {
     "name": "stdout",
     "output_type": "stream",
     "text": [
      "k, m:  100 1\n",
      "k, m:  10 10\n",
      "k, m:  2 50\n",
      "     threshold    N   n  TPR  FPR     p\n",
      "0          1.0  100   5  0.0  0.0  0.01\n",
      "1          1.0  100   5  0.0  0.0  0.01\n",
      "2          1.0  100   5  0.0  0.0  0.01\n",
      "3          1.0  100   5  0.0  0.0  0.01\n",
      "4          1.0  100   5  0.0  0.0  0.01\n",
      "..         ...  ...  ..  ...  ...   ...\n",
      "175       50.0  100  15  0.0  0.0  0.50\n",
      "176       50.0  100  15  0.0  0.0  0.50\n",
      "177       50.0  100  15  0.0  0.0  0.50\n",
      "178       50.0  100  15  0.0  0.0  0.50\n",
      "179       50.0  100  15  0.0  0.0  0.50\n",
      "\n",
      "[180 rows x 6 columns]\n",
      "     threshold    N   n  TPR  FPR     p\n",
      "0          1.0  100   5  0.2  0.1  0.01\n",
      "1          1.0  100   5  0.2  0.1  0.01\n",
      "2          1.0  100   5  0.2  0.1  0.01\n",
      "3          1.0  100   5  0.2  0.1  0.01\n",
      "4          1.0  100   5  0.2  0.1  0.01\n",
      "..         ...  ...  ..  ...  ...   ...\n",
      "175       50.0  100  15  0.0  0.0  0.50\n",
      "176       50.0  100  15  0.0  0.0  0.50\n",
      "177       50.0  100  15  0.0  0.0  0.50\n",
      "178       50.0  100  15  0.0  0.0  0.50\n",
      "179       50.0  100  15  0.0  0.0  0.50\n",
      "\n",
      "[180 rows x 6 columns]\n"
     ]
    }
   ],
   "source": [
    "mtd = \"tsodyks\"\n",
    "results_PR_hash = test_memory(METHOD = mtd, TEST = \"PR\", mfccs_vectors=mfccs_vectors)\n",
    "results_PR_artif = test_memory(METHOD = mtd, TEST = \"PR\")\n",
    "\n",
    "print(results_PR_hash)\n",
    "print(results_PR_artif)"
   ]
  },
  {
   "cell_type": "code",
   "execution_count": 419,
   "metadata": {},
   "outputs": [],
   "source": [
    "# Write the data into a .csv file\n",
    "results_PR_hash.to_csv(\"./results/precision_recall/TPR_FPR_\" + mtd + \"_hash.csv\")\n",
    "results_PR_artif.to_csv(\"./results/precision_recall/TPR_FPR_\" + mtd + \"_artif.csv\")"
   ]
  },
  {
   "cell_type": "code",
   "execution_count": 420,
   "metadata": {},
   "outputs": [
    {
     "data": {
      "image/png": "[encoded data removed]",
      "text/plain": [
       "<Figure size 1138.38x360 with 3 Axes>"
      ]
     },
     "metadata": {
      "needs_background": "light"
     },
     "output_type": "display_data"
    }
   ],
   "source": [
    "scatter_pr = sns.relplot(data=results_PR_hash, x=\"TPR\", y=\"FPR\", size=\"p\", hue = \"p\", palette = \"deep\", col=\"n\")\n",
    "\n",
    "plt.show(scatter_pr)\n",
    "\n",
    "scatter_pr.savefig('./results/precision_recall/artificial_N100_'+mtd+'.png')"
   ]
  },
  {
   "cell_type": "markdown",
   "metadata": {},
   "source": [
    "## TEST: COUNT ERRORS\n",
    "Generate random vectors to replicate the simulation results that Hopfield obtained with this implementation: errors in retrieved pattern reach 50% when the number of stored patterns exceeds 15 percent of the number of neurons for a given number of neurons."
   ]
  },
  {
   "cell_type": "code",
   "execution_count": 437,
   "metadata": {},
   "outputs": [
    {
     "name": "stdout",
     "output_type": "stream",
     "text": [
      "k, m:  100 1\n",
      "k, m:  10 10\n",
      "k, m:  2 50\n"
     ]
    },
    {
     "data": {
      "image/png": "[encoded data removed]",
      "text/plain": [
       "<Figure size 864x864 with 9 Axes>"
      ]
     },
     "metadata": {
      "needs_background": "light"
     },
     "output_type": "display_data"
    }
   ],
   "source": [
    "mtd = \"amits\"\n",
    "results_err_hash =  test_memory(METHOD = mtd, TEST = \"errors\", mfccs_vectors=mfccs_vectors)\n",
    "\n",
    "f = sns.FacetGrid(results_err_hash, row = \"p\", col=\"n\", height=4, aspect=1)\n",
    "f.map(sns.histplot, \"errors\")\n",
    "f.set_axis_labels('Num of errors in retrieved memory', 'Count', size = 12)\n",
    "\n",
    "plt.show(f)\n",
    "f.savefig('./results/num_errors/N100_'+mtd+'_hash.png')"
   ]
  },
  {
   "cell_type": "code",
   "execution_count": 438,
   "metadata": {},
   "outputs": [
    {
     "data": {
      "image/png": "[encoded data removed]",
      "text/plain": [
       "<Figure size 864x864 with 9 Axes>"
      ]
     },
     "metadata": {
      "needs_background": "light"
     },
     "output_type": "display_data"
    }
   ],
   "source": [
    "mtd = \"amits\"\n",
    "results_err_artif = test_memory(METHOD = mtd, TEST = \"errors\")\n",
    "\n",
    "f2 = sns.FacetGrid(results_err_artif, row = \"p\", col=\"n\", height=4, aspect=1)\n",
    "f2.map(sns.histplot, \"errors\")\n",
    "f2.set_axis_labels('Num of errors in retrieved memory', 'Count', size = 12)\n",
    "\n",
    "plt.show(f2)\n",
    "f2.savefig('./results/num_errors/N100_'+mtd+'_hash.png')"
   ]
  },
  {
   "cell_type": "markdown",
   "metadata": {},
   "source": [
    "## TEST: DISTANCE"
   ]
  },
  {
   "cell_type": "code",
   "execution_count": 449,
   "metadata": {},
   "outputs": [
    {
     "name": "stdout",
     "output_type": "stream",
     "text": [
      "k, m:  100 1\n",
      "k, m:  10 10\n",
      "k, m:  2 50\n"
     ]
    },
    {
     "data": {
      "text/html": [
       "<div>\n",
       "<style scoped>\n",
       "    .dataframe tbody tr th:only-of-type {\n",
       "        vertical-align: middle;\n",
       "    }\n",
       "\n",
       "    .dataframe tbody tr th {\n",
       "        vertical-align: top;\n",
       "    }\n",
       "\n",
       "    .dataframe thead th {\n",
       "        text-align: right;\n",
       "    }\n",
       "</style>\n",
       "<table border=\"1\" class=\"dataframe\">\n",
       "  <thead>\n",
       "    <tr style=\"text-align: right;\">\n",
       "      <th></th>\n",
       "      <th>threshold</th>\n",
       "      <th>N</th>\n",
       "      <th>n</th>\n",
       "      <th>familiarity</th>\n",
       "      <th>p</th>\n",
       "    </tr>\n",
       "  </thead>\n",
       "  <tbody>\n",
       "    <tr>\n",
       "      <th>0</th>\n",
       "      <td>-0.5</td>\n",
       "      <td>100</td>\n",
       "      <td>5</td>\n",
       "      <td>1</td>\n",
       "      <td>0.01</td>\n",
       "    </tr>\n",
       "    <tr>\n",
       "      <th>1</th>\n",
       "      <td>-0.5</td>\n",
       "      <td>100</td>\n",
       "      <td>5</td>\n",
       "      <td>1</td>\n",
       "      <td>0.01</td>\n",
       "    </tr>\n",
       "    <tr>\n",
       "      <th>2</th>\n",
       "      <td>-0.5</td>\n",
       "      <td>100</td>\n",
       "      <td>5</td>\n",
       "      <td>1</td>\n",
       "      <td>0.01</td>\n",
       "    </tr>\n",
       "    <tr>\n",
       "      <th>3</th>\n",
       "      <td>-0.5</td>\n",
       "      <td>100</td>\n",
       "      <td>5</td>\n",
       "      <td>1</td>\n",
       "      <td>0.01</td>\n",
       "    </tr>\n",
       "    <tr>\n",
       "      <th>4</th>\n",
       "      <td>-0.5</td>\n",
       "      <td>100</td>\n",
       "      <td>5</td>\n",
       "      <td>1</td>\n",
       "      <td>0.01</td>\n",
       "    </tr>\n",
       "    <tr>\n",
       "      <th>...</th>\n",
       "      <td>...</td>\n",
       "      <td>...</td>\n",
       "      <td>...</td>\n",
       "      <td>...</td>\n",
       "      <td>...</td>\n",
       "    </tr>\n",
       "    <tr>\n",
       "      <th>175</th>\n",
       "      <td>-49.5</td>\n",
       "      <td>100</td>\n",
       "      <td>15</td>\n",
       "      <td>0</td>\n",
       "      <td>0.50</td>\n",
       "    </tr>\n",
       "    <tr>\n",
       "      <th>176</th>\n",
       "      <td>-49.5</td>\n",
       "      <td>100</td>\n",
       "      <td>15</td>\n",
       "      <td>1</td>\n",
       "      <td>0.50</td>\n",
       "    </tr>\n",
       "    <tr>\n",
       "      <th>177</th>\n",
       "      <td>-49.5</td>\n",
       "      <td>100</td>\n",
       "      <td>15</td>\n",
       "      <td>0</td>\n",
       "      <td>0.50</td>\n",
       "    </tr>\n",
       "    <tr>\n",
       "      <th>178</th>\n",
       "      <td>-49.5</td>\n",
       "      <td>100</td>\n",
       "      <td>15</td>\n",
       "      <td>0</td>\n",
       "      <td>0.50</td>\n",
       "    </tr>\n",
       "    <tr>\n",
       "      <th>179</th>\n",
       "      <td>-49.5</td>\n",
       "      <td>100</td>\n",
       "      <td>15</td>\n",
       "      <td>0</td>\n",
       "      <td>0.50</td>\n",
       "    </tr>\n",
       "  </tbody>\n",
       "</table>\n",
       "<p>180 rows × 5 columns</p>\n",
       "</div>"
      ],
      "text/plain": [
       "     threshold    N   n  familiarity     p\n",
       "0         -0.5  100   5            1  0.01\n",
       "1         -0.5  100   5            1  0.01\n",
       "2         -0.5  100   5            1  0.01\n",
       "3         -0.5  100   5            1  0.01\n",
       "4         -0.5  100   5            1  0.01\n",
       "..         ...  ...  ..          ...   ...\n",
       "175      -49.5  100  15            0  0.50\n",
       "176      -49.5  100  15            1  0.50\n",
       "177      -49.5  100  15            0  0.50\n",
       "178      -49.5  100  15            0  0.50\n",
       "179      -49.5  100  15            0  0.50\n",
       "\n",
       "[180 rows x 5 columns]"
      ]
     },
     "execution_count": 449,
     "metadata": {},
     "output_type": "execute_result"
    }
   ],
   "source": [
    "mtd = \"amits\"\n",
    "results_dist_hash =  test_memory(METHOD = mtd, TEST = \"distance\", mfccs_vectors=mfccs_vectors)\n",
    "\n",
    "results_dist_hash"
   ]
  },
  {
   "cell_type": "code",
   "execution_count": 459,
   "metadata": {},
   "outputs": [
    {
     "name": "stdout",
     "output_type": "stream",
     "text": [
      "n: 5, p: 0.01, mean: 1.0\n",
      "n: 5, p: 0.1, mean: 1.0\n",
      "n: 5, p: 0.5, mean: 0.4\n",
      "n: 10, p: 0.01, mean: 1.0\n",
      "n: 10, p: 0.1, mean: 1.0\n",
      "n: 10, p: 0.5, mean: 0.55\n",
      "n: 15, p: 0.01, mean: 1.0\n",
      "n: 15, p: 0.1, mean: 1.0\n",
      "n: 15, p: 0.5, mean: 0.3\n"
     ]
    }
   ],
   "source": [
    "for n in [5,10,15]:\n",
    "    for p in [0.01, 0.1, 0.5]:\n",
    "        mn = results_dist_hash[(results_dist_hash[\"n\"]==n) & (results_dist_hash[\"p\"]==p)]['familiarity'].mean()\n",
    "        print(\"n: {}, p: {}, mean: {}\".format(n,p,mn))\n",
    "\n",
    "# scatter_dist = sns.relplot(data=results_dist_hash, x=\"familiarity\", y=\"threshold\", style = \"p\", palette = \"deep\", col=\"n\")\n",
    "\n",
    "# plt.show(scatter_dist)\n",
    "\n",
    "# scatter_dist.savefig('./results/precision_recall/artificial_N100_'+mtd+'.png')"
   ]
  },
  {
   "cell_type": "markdown",
   "metadata": {},
   "source": [
    "## To be deleted later"
   ]
  },
  {
   "cell_type": "code",
   "execution_count": null,
   "metadata": {},
   "outputs": [],
   "source": [
    "# TIMING TEST\n",
    "\n",
    "# %prun range_for_N(k, 500, 1000, 20)"
   ]
  },
  {
   "cell_type": "code",
   "execution_count": 363,
   "metadata": {},
   "outputs": [],
   "source": [
    "# def range_for_N(k, minimum, maximum, num_points):\n",
    "#     \"\"\"\n",
    "#     Finds equally spaced values for N, from pre-defined minimum to \n",
    "#     pre-defined maximum. N is the dimension of our memory storage \n",
    "#     (which is of the size N*N).\n",
    "\n",
    "#     Parameters\n",
    "#     ----------\n",
    "#     k : num\n",
    "#         Number of units we randomly choose of the vector\n",
    "#     minimum : num\n",
    "#         Minimum number we want the range to start from\n",
    "#     maximum : num\n",
    "#         Maximum number we want the range to stop at\n",
    "#     num_points : nuim\n",
    "#         The number of points we want between and including min and max\n",
    "    \n",
    "#     Returns\n",
    "#     -------\n",
    "#     list\n",
    "#         We return a list of the number num_points from min to max\n",
    "#     \"\"\"\n",
    "    \n",
    "#     minimum_ = np.ceil(minimum/k)\n",
    "#     maximum_ = np.floor(maximum/k)\n",
    "#     range_N = np.unique(np.round(np.linspace(minimum_, maximum_, num_points)).astype(int))\n",
    "#     return k*range_N"
   ]
  },
  {
   "cell_type": "markdown",
   "metadata": {},
   "source": [
    "### References\n",
    "\n",
    "[1] Hopfield, J. J. (1982). Neural networks and physical systems with emergent collective computational abilities. Proceedings of the national academy of sciences, 79(8), 2554-2558. \n",
    "[https://doi.org/10.1073/pnas.79.8.2554]\n",
    "\n",
    "[2] Andoni, A., & Indyk, P. (2006, October). Near-optimal hashing algorithms for approximate nearest neighbor in high dimensions. In 2006 47th annual IEEE symposium on foundations of computer science (FOCS'06) (pp. 459-468). IEEE.\n",
    "[https://10.1109/FOCS.2006.49]"
   ]
  },
  {
   "cell_type": "code",
   "execution_count": 16,
   "metadata": {},
   "outputs": [
    {
     "data": {
      "image/png": "[encoded data removed]",
      "text/plain": [
       "<Figure size 432x288 with 1 Axes>"
      ]
     },
     "metadata": {
      "needs_background": "light"
     },
     "output_type": "display_data"
    }
   ],
   "source": [
    "D = pd.read_csv(\"/Users/nika/Documents/hopfield_hash/model/k/train_N100_p01_k.txt\")\n",
    "\n",
    "p = sns.histplot(data=D)\n",
    "\n",
    "plt.show(p)\n",
    "\n",
    "p.figure.savefig('./tests/artificial_N100_p01_amits_train.png')"
   ]
  }
 ],
 "metadata": {
  "kernelspec": {
   "display_name": "Python 3",
   "language": "python",
   "name": "python3"
  },
  "language_info": {
   "codemirror_mode": {
    "name": "ipython",
    "version": 3
   },
   "file_extension": ".py",
   "mimetype": "text/x-python",
   "name": "python",
   "nbconvert_exporter": "python",
   "pygments_lexer": "ipython3",
   "version": "3.8.2"
  }
 },
 "nbformat": 4,
 "nbformat_minor": 4
}
