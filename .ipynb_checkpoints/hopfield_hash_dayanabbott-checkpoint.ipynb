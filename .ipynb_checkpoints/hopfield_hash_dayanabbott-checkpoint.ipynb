{
 "cells": [
  {
   "cell_type": "markdown",
   "metadata": {},
   "source": [
    "# Hopfield Network With Hashing - Dayan & Abbott"
   ]
  },
  {
   "cell_type": "markdown",
   "metadata": {},
   "source": [
    "The following code takes as input .wav sound files and transforms each of them into MFCC vectors. These vectors are then each transformed into a hash. They are then used to train a Hopfield network. In this way, each sound vector becomes a memory pattern that can be accessed even if slightly corrupted."
   ]
  },
  {
   "cell_type": "markdown",
   "metadata": {},
   "source": [
    "This is a memory mechanism in a form of a Hopfield network. The stored items are called memory patterns. They are retrieved by a process of the input that is presented to the network dynamics which at some time step reaches a fixed stable point. This means that the input item has been recognized (i.e. there is a memory pattern identical or very similar to it).\n",
    "\n",
    "Even noisy sounds or those corrupted to some extent can be accessed. In other words, if the input is $x_1 + \\delta$ and the stored item is $x_1$, the network will still reach the fixed point of $x_1$ if $\\delta$ is small enough.\n",
    "\n",
    "Additionally, for storage purposes, sounds are transformed each into a hash - with this we reduce their dimensionality. This means we increase the storage capacity. "
   ]
  },
  {
   "cell_type": "code",
   "execution_count": 1,
   "metadata": {},
   "outputs": [],
   "source": [
    "# First, we load some dependencies.\n",
    "import numpy as np\n",
    "import math\n",
    "from python_speech_features import mfcc\n",
    "import scipy.io.wavfile as wav\n",
    "import sys\n",
    "import glob\n",
    "import random"
   ]
  },
  {
   "cell_type": "code",
   "execution_count": 2,
   "metadata": {},
   "outputs": [],
   "source": [
    "# Folder with some wav files to test this script.\n",
    "folder_train = \"./waveforms/\""
   ]
  },
  {
   "cell_type": "markdown",
   "metadata": {},
   "source": [
    "First, we need to transform the sounds into a readable format that can be used for hashing."
   ]
  },
  {
   "cell_type": "code",
   "execution_count": 3,
   "metadata": {},
   "outputs": [],
   "source": [
    "# Go through the folder and find all (and only) files ending with .wav\n",
    "# Here, we transform each .wav file into MFCCs and then flatten them into one vector\n",
    "# We do this because we want one hash per .wav file\n",
    "#\n",
    "# Arguments: sound folder\n",
    "# Returns: a list of flattened MFCC vectors\n",
    "\n",
    "def make_mfcc(folder):\n",
    "    vectors = []\n",
    "    for file in glob.glob(folder + \"*.wav\", recursive=True):\n",
    "        (rate,sig) = wav.read(file)\n",
    "        mfcc_feat = mfcc(sig,rate)\n",
    "        vect = mfcc_feat.flatten()\n",
    "        vectors.append(vect)\n",
    "    return vectors"
   ]
  },
  {
   "cell_type": "markdown",
   "metadata": {},
   "source": [
    "We will transform each sound (that is, each sound transformed into MFCC vectors, then flattened into one vector) into a hash."
   ]
  },
  {
   "cell_type": "code",
   "execution_count": 4,
   "metadata": {},
   "outputs": [],
   "source": [
    "# Transform a vector of speech into a hash\n",
    "# The hash will be a matrix of the dimension = k*m\n",
    "# We choose a random number k of units of the vector.\n",
    "# And look for the highest value and turn it into 1.\n",
    "# Everything else is 0.\n",
    "# We thus get sparse matrices.\n",
    "# We do this m times. Final output is h=k*m.\n",
    "\n",
    "\n",
    "def get_hash(vector, k, m):\n",
    "    d = len(vector)\n",
    "    p = np.zeros((m,k,))\n",
    "    for i in range(m):\n",
    "        p[i] = np.random.permutation(d)[:k]\n",
    "        \n",
    "    h = np.zeros((m,k,))\n",
    "    for i in range(m):\n",
    "        ix = np.argmax(p[i])\n",
    "        hi = np.zeros(k)\n",
    "        hi[ix] = 1\n",
    "        h[i] = hi\n",
    "    h = np.hstack(h)\n",
    "    return h\n",
    "\n",
    "## Test:\n",
    "# V = make_mfcc(folder)\n",
    "# get_hash(V[1], 5, 3)\n",
    "\n",
    "# Principle\n",
    "# - Algo: inputs of dimension d, params k, m (hash dim=k*m)\n",
    "#   - pre-processing: \n",
    "#       p=[]; \n",
    "#       for i=1:m: \n",
    "#           p[i] = random_perm(d)[:k]\n",
    "#   - getting hash for X: \n",
    "#       h = []\n",
    "#       for i=1:m:\n",
    "#         ix = argmax(X[p[i]])\n",
    "#         hi = zeros(k)\n",
    "#         hi[ix] = 1\n",
    "#         h = h + hi\n",
    "#   -> i.e. there is a local WTA on m sets of \n",
    "#   randomly chosen k-tuple of dims -> hash is of length mk with exactly m ones."
   ]
  },
  {
   "cell_type": "markdown",
   "metadata": {},
   "source": [
    "Hopfield network consists of a symmetric recurrent weight matrix that is trained with memory patterns (presented as hash vectors) we want to store. The weight matrix is trained with those patterns such that each of them becomes a fixed point of the network. Once we want to \"retrieve\" a memory pattern, we need to find one of the fixed points."
   ]
  },
  {
   "cell_type": "code",
   "execution_count": 5,
   "metadata": {},
   "outputs": [],
   "source": [
    "# Function for the matrix M (symmetric recurrent weight matrix)\n",
    "#\n",
    "# Arguments: \n",
    "# lmbda (eigenvalue represented as a lambda), alpha (amount of active units),\n",
    "# c (constant value of active components, inactive have 0), \n",
    "# N (number of neurons), V (list of vectors in a hash form)\n",
    "\n",
    "def get_m(lmbda, alpha, c, N, V):\n",
    "    \n",
    "    # n is a vector of ones\n",
    "    n = np.ones(N)\n",
    "\n",
    "    vect_sum = np.zeros((N,N))\n",
    "    for vect in V:\n",
    "        outer_prod = np.outer((vect - alpha * c * n),(vect - alpha * c * n))\n",
    "        vect_sum += outer_prod\n",
    "\n",
    "    m = (lmbda / (pow(c,2)*alpha*N*(1-alpha))) \\\n",
    "        * vect_sum \\\n",
    "        - (np.outer(n,n) / (alpha*N))\n",
    "    return m"
   ]
  },
  {
   "cell_type": "markdown",
   "metadata": {},
   "source": [
    "We need to determine what is a fixed point of the network. This is done "
   ]
  },
  {
   "cell_type": "code",
   "execution_count": 6,
   "metadata": {},
   "outputs": [],
   "source": [
    "# Function for the fixed point\n",
    "# Memory pattern satisfies v_m = F(M * v_m) (i.e. is a fixed point)\n",
    "# We use a sigmoid function as F: F = 1/(1+np.exp(-x))\n",
    "\n",
    "def convergence_criterion(x0, x1, tau):\n",
    "#     return math.isclose(x0, x1, rel_tol=tau) \n",
    "    return np.allclose(x0, x1, rtol=tau)\n",
    "\n",
    "def fixed_point(x0, m, tau, i):\n",
    "    x1 = 1/(1 + np.exp(- np.inner(m,x0) ))\n",
    "    while convergence_criterion(x0, x1, tau) == False:\n",
    "        i += 1\n",
    "        return fixed_point(x1, m, tau, i)\n",
    "    print(i)\n",
    "    return x1\n",
    "\n",
    "#     if F == None:\n",
    "#         x1 = 1/(1 + np.exp(- np.inner(m,x0) ))\n",
    "#     else:\n",
    "#         x1 = F*x0\n",
    "    \n",
    "#     if convergence_criterion(x0, x1, tau):\n",
    "#         return x1\n",
    "#     else:\n",
    "#         i += 1\n",
    "#         print(i)\n",
    "#         return fixed_point(x1, tau, F)"
   ]
  },
  {
   "cell_type": "code",
   "execution_count": 7,
   "metadata": {},
   "outputs": [
    {
     "name": "stderr",
     "output_type": "stream",
     "text": [
      "WARNING:root:frame length (800) is greater than FFT size (512), frame will be truncated. Increase NFFT to avoid.\n",
      "WARNING:root:frame length (800) is greater than FFT size (512), frame will be truncated. Increase NFFT to avoid.\n"
     ]
    }
   ],
   "source": [
    "# Test:\n",
    "\n",
    "k = 5\n",
    "m = 3\n",
    "lmbda = 0.1\n",
    "alpha = 0.6\n",
    "c = 1\n",
    "N = 15\n",
    "V =[]\n",
    "\n",
    "mfccs_vectors = make_mfcc(folder_train)\n",
    "for vect in mfccs_vectors:\n",
    "    v = get_hash(vect, 5, 3)\n",
    "    V.append(v)\n",
    "\n",
    "m = get_m(lmbda, alpha, c, N, V)\n"
   ]
  },
  {
   "cell_type": "code",
   "execution_count": 11,
   "metadata": {},
   "outputs": [
    {
     "name": "stdout",
     "output_type": "stream",
     "text": [
      "11\n",
      "[0.39376684 0.40994289 0.39355699 0.40939568 0.37675641 0.42587158\n",
      " 0.40994289 0.34551365 0.409722   0.39387688 0.40983348 0.37718371\n",
      " 0.39333546 0.40939279 0.39366495]\n",
      "2\n",
      "[0.39686575 0.41263438 0.39663611 0.41206184 0.38018915 0.42811918\n",
      " 0.41263438 0.34964401 0.41240536 0.396978   0.41251901 0.38063954\n",
      " 0.39640938 0.4120609  0.39675004]\n",
      "11\n",
      "[0.39376691 0.40994295 0.39355707 0.40939574 0.37675649 0.42587163\n",
      " 0.40994295 0.34551374 0.40972206 0.39387695 0.40983355 0.37718379\n",
      " 0.39333553 0.40939285 0.39366503]\n",
      "3\n",
      "[0.39634747 0.41219502 0.39612399 0.41161254 0.37958602 0.42775017\n",
      " 0.41219502 0.34891092 0.41195888 0.39646446 0.41207734 0.38004033\n",
      " 0.39588821 0.41161041 0.39624019]\n"
     ]
    }
   ],
   "source": [
    "# Test to get to fixed poind\n",
    "\n",
    "tau1 = 0.000001\n",
    "tau2 = 0.1\n",
    "# x0_1 is a vector similar to a memory pattern that is stored\n",
    "x0_1 = np.array([0., 0., 0., 0., 1., 0., 0., 0., 0., 1., 0., 1., 0., 0., 0.])\n",
    "# x0_2 is a vector very different from any memory pattern stored\n",
    "x0_2 = np.array([1., 1., 1., 1., 1., 1., 1., 1., 1., 1., 1., 1., 1., 1., 1.])\n",
    "\n",
    "print(fixed_point(x0_1, m, tau1, 0))\n",
    "\n",
    "print(fixed_point(x0_1, m, tau2, 0))\n",
    "\n",
    "# This is problematic: x0_2 is not even nearly similar to any of the stored patterns, \n",
    "# yet w reach the local minimum/fixed point\n",
    "\n",
    "print(fixed_point(x0_2, m, tau1, 0))\n",
    "\n",
    "print(fixed_point(x0_2, m, tau2, 0))"
   ]
  },
  {
   "cell_type": "code",
   "execution_count": null,
   "metadata": {},
   "outputs": [],
   "source": []
  }
 ],
 "metadata": {
  "kernelspec": {
   "display_name": "Python 3",
   "language": "python",
   "name": "python3"
  },
  "language_info": {
   "codemirror_mode": {
    "name": "ipython",
    "version": 3
   },
   "file_extension": ".py",
   "mimetype": "text/x-python",
   "name": "python",
   "nbconvert_exporter": "python",
   "pygments_lexer": "ipython3",
   "version": "3.8.2"
  }
 },
 "nbformat": 4,
 "nbformat_minor": 4
}
