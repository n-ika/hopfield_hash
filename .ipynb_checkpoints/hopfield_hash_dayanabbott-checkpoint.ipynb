{
 "cells": [
  {
   "cell_type": "markdown",
   "metadata": {},
   "source": [
    "# Hopfield Network With Hashing - Dayan & Abbott"
   ]
  },
  {
   "cell_type": "markdown",
   "metadata": {},
   "source": [
    "The following code takes as input .wav sound files and transforms each of them into MFCC vectors. These vectors are then each transformed into a hash. They are then used to train a Hopfield network. In this way, each sound vector becomes a memory pattern that can be accessed even if slightly corrupted."
   ]
  },
  {
   "cell_type": "markdown",
   "metadata": {},
   "source": [
    "This is a memory mechanism in a form of a Hopfield network. The stored items are called memory patterns. They are retrieved by a process of the input that is presented to the network dynamics which at some time step reaches a fixed stable point. This means that the input item has been recognized (i.e. there is a memory pattern identical or very similar to it).\n",
    "\n",
    "Even noisy sounds or those corrupted to some extent can be accessed. In other words, if the input is $x_1 + \\delta$ and the stored item is $x_1$, the network will still reach the fixed point of $x_1$ if $\\delta$ is small enough.\n",
    "\n",
    "Additionally, for storage purposes, sounds are transformed each into a hash - with this we reduce their dimensionality. This means we increase the storage capacity. \n",
    "\n",
    "### Load dependencies"
   ]
  },
  {
   "cell_type": "code",
   "execution_count": 1,
   "metadata": {},
   "outputs": [],
   "source": [
    "# First, we load some dependencies.\n",
    "import numpy as np\n",
    "import math\n",
    "from python_speech_features import mfcc\n",
    "import scipy.io.wavfile as wav\n",
    "import sys\n",
    "import glob\n",
    "import random"
   ]
  },
  {
   "cell_type": "code",
   "execution_count": 2,
   "metadata": {},
   "outputs": [],
   "source": [
    "# Folder with some wav files to test this script.\n",
    "folder_train = \"./wavs/\""
   ]
  },
  {
   "cell_type": "markdown",
   "metadata": {},
   "source": [
    "### Extract Features\n",
    "\n",
    "First, we need to transform the sounds into a readable format (here, MFCCs) that can be used for hashing."
   ]
  },
  {
   "cell_type": "code",
   "execution_count": 3,
   "metadata": {},
   "outputs": [],
   "source": [
    "def make_mfcc(folder):\n",
    "    \"\"\"\n",
    "    Go through the folder and find all (and only) files ending with .wav\n",
    "    Here, we transform each .wav file into MFCCs and then flatten them into one vector.\n",
    "    We do this because we want one hash per .wav file.\n",
    "    \n",
    "    Parameters\n",
    "    ----------\n",
    "    folder : path to folder with wav sounds\n",
    "    \n",
    "    Returns\n",
    "    -------\n",
    "    a list of flattened MFCC vectors\n",
    "    \"\"\"\n",
    "    \n",
    "    vectors = []\n",
    "    for file in glob.glob(folder + \"*.wav\", recursive=True):\n",
    "        (rate,sig) = wav.read(file)\n",
    "        mfcc_feat = mfcc(sig,rate)\n",
    "        vect = mfcc_feat.flatten()\n",
    "        vectors.append(vect)\n",
    "    return vectors"
   ]
  },
  {
   "cell_type": "markdown",
   "metadata": {},
   "source": [
    "### Hashing of features\n",
    "\n",
    "Now we will use these features and transform them into hash vectors, which we will use to store in our memory. We do this to facilitate memory storage: hashes are vectors with reduced dimensionality, with values mostly equal to 0 and a few of them equal to 1."
   ]
  },
  {
   "cell_type": "code",
   "execution_count": 4,
   "metadata": {},
   "outputs": [],
   "source": [
    "def hash_dim(d,k,m,seed):  \n",
    "    \n",
    "    \"\"\"\n",
    "    Define hash parameters.\n",
    "    The hash will be a matrix of the dimension = k*m\n",
    "    We choose a random number k of units of the vector.\n",
    "    \n",
    "    Parameters\n",
    "    ----------\n",
    "    d : num\n",
    "        Length of a random vector being stored\n",
    "    k : num\n",
    "        Number of units we randomly choose of the vector\n",
    "    m : num\n",
    "        Number of times we will  do the hashing for some vector\n",
    "    seed : num\n",
    "        We always want the same units randomly chosen\n",
    "        \n",
    "    Returns\n",
    "    -------\n",
    "    a numpy array \n",
    "        p of dimensions [k,m] represents randomly chosen dimensions\n",
    "    \n",
    "    \"\"\"   \n",
    "    \n",
    "    assert k <= d\n",
    "    p = np.zeros((m,k,))\n",
    "    np.random.seed(seed)\n",
    "    for i in range(m):\n",
    "        p[i] = np.random.permutation(d)[:k]\n",
    "    return p\n",
    "\n",
    "    \n",
    "def get_hash(vector, k, m, p): \n",
    "    \"\"\"\n",
    "    Transform a vector of speech into a hash\n",
    "    The hash will be a matrix of the dimension = k*m\n",
    "    \n",
    "    Once we have chosen k random dimensions, we look for the highest \n",
    "    value and turn it into 1. Everything else is 0.\n",
    "    We thus get sparse matrices.\n",
    "    We do this m times. Final output is h=k*m.\n",
    "    \n",
    "    Parameters\n",
    "    ----------\n",
    "    vector : np.array\n",
    "        Features (i.e. MFCC) of some sound with dim = 1*n\n",
    "    k : num\n",
    "        Number of units we randomly choose of the vector\n",
    "    m : num\n",
    "        Number of times we will do the hashing for some vector.\n",
    "    p : numpy array\n",
    "        p of dimensions [k,m] represents randomly chosen dimensions\n",
    "        \n",
    "    Returns\n",
    "    -------\n",
    "    a numpy array h of size [1, k*m]\n",
    "    \"\"\"\n",
    "    \n",
    "    h = np.zeros((m,k,))\n",
    "    for i in range(m):\n",
    "        p_line = p[i]\n",
    "        ix = np.argmax(vector[p_line])\n",
    "        hi = np.zeros(k)\n",
    "        hi[ix] = 1\n",
    "        h[i] = hi\n",
    "    h = np.hstack(h)\n",
    "    return h"
   ]
  },
  {
   "cell_type": "code",
   "execution_count": 5,
   "metadata": {},
   "outputs": [
    {
     "name": "stdout",
     "output_type": "stream",
     "text": [
      "This is a test hash:  [1. 0. 0. 0. 0. 1.]\n"
     ]
    }
   ],
   "source": [
    "# TEST\n",
    "\n",
    "expected_h = np.array([[1,0,0],[0,0,1]]).flatten()\n",
    "vector = np.array([6,4,5,9,2])\n",
    "p0 = hash_dim(len(vector),3,2,2).astype(int)\n",
    "print(\"This is a test hash: \", get_hash(vector, 3, 2, p0))\n",
    "assert get_hash(vector, 3, 2, p0).all() == expected_h.all()"
   ]
  },
  {
   "cell_type": "markdown",
   "metadata": {},
   "source": [
    "### Memory storage\n",
    "\n",
    "Hopfield network consists of a dynammic network where we can store memories. In particular, the storage is the symmetric recurrent weight matrix that is trained with memory patterns (presented as hash vectors) we are storing. This results with each of them becoming a fixed point of the network. Once we want to \"retrieve\" a memory pattern, we need to find one of the fixed points. "
   ]
  },
  {
   "cell_type": "code",
   "execution_count": 6,
   "metadata": {},
   "outputs": [],
   "source": [
    "def get_m(lmbda, alpha, c, N, V):\n",
    "    \"\"\"\n",
    "    Obtain the matrix M (symmetric recurrent weight matrix) representing memory storage.\n",
    "    \n",
    "    Parameters\n",
    "    ----------\n",
    "    lmbda : num\n",
    "        Eigenvalue represented as a lambda\n",
    "    alpha : num\n",
    "        Number representing the amount of active units\n",
    "    c : num\n",
    "        Constant value of active components, inactive have 0\n",
    "    N : num\n",
    "        Number of neurons used\n",
    "    V : list\n",
    "        A list of vectors in a hashed form\n",
    "        \n",
    "    Returns\n",
    "    -------\n",
    "    a numpy array m \n",
    "    \"\"\"\n",
    "    # n is a vector of ones\n",
    "    n = np.ones(N)\n",
    "\n",
    "    vect_sum = np.zeros((N,N))\n",
    "    for vect in V:\n",
    "        outer_prod = np.outer((vect - alpha * c * n),(vect - alpha * c * n))\n",
    "        vect_sum += outer_prod\n",
    "\n",
    "    m = (lmbda / (pow(c,2)*alpha*N*(1-alpha))) \\\n",
    "        * vect_sum \\\n",
    "        - (np.outer(n,n) / (alpha*N))\n",
    "    return m"
   ]
  },
  {
   "cell_type": "markdown",
   "metadata": {},
   "source": [
    "We need to determine what is a fixed point of the network. That is, we want to know when the system is stable. When the system is stable, this indicated we have retrieved a memory stored in our network.  "
   ]
  },
  {
   "cell_type": "code",
   "execution_count": 23,
   "metadata": {},
   "outputs": [],
   "source": [
    "def has_converged(x0, x1, tau):\n",
    "    \"\"\"\n",
    "    Decides whether the system has converged.\n",
    "    \n",
    "    Parameters\n",
    "    ----------\n",
    "    x0 : num\n",
    "        A point from the moment t-1\n",
    "    x1 : num\n",
    "        Updated point from the moment t\n",
    "    tau : num\n",
    "        Number representing the threshold\n",
    "        \n",
    "    Returns\n",
    "    -------\n",
    "    boolean : True or False\n",
    "    \"\"\"\n",
    "#     return math.isclose(x0, x1, rel_tol=tau) \n",
    "    return np.allclose(x0, x1, rtol=tau)\n",
    "\n",
    "def fixed_point(x0, m, tau, i):\n",
    "    \"\"\"\n",
    "    Decides whether a fixed point of the system was reached.\n",
    "    This means we have retrieved a memory.\n",
    "    Memory pattern satisfies v_m = F(M * v_m) (i.e. is a fixed point)\n",
    "    We use a sigmoid function as F: F = 1/(1+np.exp(-x))\n",
    "    \n",
    "    Parameters\n",
    "    ----------\n",
    "    x0 : num\n",
    "        A point we start evaluating the system from\n",
    "    m : numpy array\n",
    "        Symmetric recurrent weight matrix (memory storage)\n",
    "    tau : num\n",
    "        Number representing the threshold\n",
    "    i : num\n",
    "        Index at which we start\n",
    "        \n",
    "    Returns\n",
    "    -------\n",
    "    x1 : fixed point of the system, given that we started at x0\n",
    "    \"\"\"\n",
    "    x1 = 1/(1 + np.exp(- np.inner(m,x0) ))\n",
    "    while not has_converged(x0, x1, tau):\n",
    "        print(i)\n",
    "        i += 1\n",
    "        return fixed_point(x1, m, tau, i)\n",
    "    return x1\n",
    "\n",
    "#     if F == None:\n",
    "#         x1 = 1/(1 + np.exp(- np.inner(m,x0) ))\n",
    "#     else:\n",
    "#         x1 = F*x0\n",
    "    \n",
    "#     if convergence_criterion(x0, x1, tau):\n",
    "#         return x1\n",
    "#     else:\n",
    "#         i += 1\n",
    "#         print(i)\n",
    "#         return fixed_point(x1, tau, F)"
   ]
  },
  {
   "cell_type": "code",
   "execution_count": 10,
   "metadata": {},
   "outputs": [],
   "source": [
    "# Test:\n",
    "\n",
    "k = 5\n",
    "m = 3\n",
    "lmbda = 0.1\n",
    "alpha = 0.6\n",
    "c = 1\n",
    "N = 15\n",
    "V =[]\n",
    "\n",
    "vect_length = 15\n",
    "\n",
    "p = hash_dim(vect_length,k,m,27).astype(int)\n",
    "mfccs_vectors = make_mfcc(folder_train)\n",
    "for vect in mfccs_vectors:\n",
    "    v = get_hash(vect, k, m, p)\n",
    "    V.append(v)\n",
    "\n",
    "M = get_m(lmbda, alpha, c, N, V)\n"
   ]
  },
  {
   "cell_type": "code",
   "execution_count": 26,
   "metadata": {},
   "outputs": [
    {
     "name": "stdout",
     "output_type": "stream",
     "text": [
      "[0. 1. 0. 0. 0. 0. 0. 0. 1. 0. 0. 0. 0. 0. 1.]\n",
      "0\n",
      "[1.77214017e-09 9.99997429e-01 2.26287278e-09 1.73319318e-09\n",
      " 1.32750270e-09 1.63953056e-09 1.50008424e-09 1.65784925e-09\n",
      " 9.99998665e-01 1.17477578e-09 1.63044734e-09 1.73319318e-09\n",
      " 1.20117403e-09 1.38014437e-09 9.99998694e-01]\n",
      "[1.77208129e-09 9.99997429e-01 2.26279136e-09 1.73313603e-09\n",
      " 1.32745800e-09 1.63947644e-09 1.50003442e-09 1.65779442e-09\n",
      " 9.99998665e-01 1.17473620e-09 1.63039349e-09 1.73313603e-09\n",
      " 1.20113367e-09 1.38009829e-09 9.99998694e-01]\n",
      "0\n",
      "[1.00000000e+00 8.45370516e-28 1.00000000e+00 1.00000000e+00\n",
      " 1.00000000e+00 1.00000000e+00 1.00000000e+00 1.00000000e+00\n",
      " 3.03457198e-40 1.00000000e+00 1.00000000e+00 1.00000000e+00\n",
      " 1.00000000e+00 1.00000000e+00 8.06753646e-40]\n",
      "0\n",
      "[1.00000000e+00 8.45370516e-28 1.00000000e+00 1.00000000e+00\n",
      " 1.00000000e+00 1.00000000e+00 1.00000000e+00 1.00000000e+00\n",
      " 3.03457198e-40 1.00000000e+00 1.00000000e+00 1.00000000e+00\n",
      " 1.00000000e+00 1.00000000e+00 8.06753646e-40]\n"
     ]
    }
   ],
   "source": [
    "# Test to get to fixed poind\n",
    "\n",
    "tau1 = 0.000001\n",
    "tau2 = 0.1\n",
    "# x0_1 is a vector similar to a memory pattern that is stored\n",
    "x0_1 = V[0]\n",
    "print(V[0])\n",
    "# x0_2 is a vector very different from any memory pattern stored\n",
    "x0_2 = np.array([1., 1., 1., 1., 1., 1., 1., 1., 1., 1., 1., 1., 1., 1., 1.])\n",
    "\n",
    "print(fixed_point(x0_1, M, tau1, 0))\n",
    "\n",
    "print(fixed_point(x0_1, M, tau2, 0))\n",
    "\n",
    "# This is problematic: x0_2 is not even nearly similar to any of the stored patterns, \n",
    "# yet w reach the local minimum/fixed point\n",
    "\n",
    "print(fixed_point(x0_2, M, tau1, 0))\n",
    "\n",
    "print(fixed_point(x0_2, M, tau2, 0))"
   ]
  },
  {
   "cell_type": "code",
   "execution_count": 12,
   "metadata": {},
   "outputs": [
    {
     "name": "stdout",
     "output_type": "stream",
     "text": [
      "[[11.83111111 -5.12444444  8.95888889 11.67555556 11.39222222 11.59222222\n",
      "  11.60888889 11.64222222 -7.53555556 11.42555556 11.60888889 11.67555556\n",
      "  11.38666667 11.55333333 -7.49111111]\n",
      " [-5.12444444  6.30888889 -7.60777778 -4.89111111 -5.17444444 -4.86333333\n",
      "  -4.93       -4.92444444  3.28666667 -5.05777778 -4.87444444 -4.89111111\n",
      "  -5.01333333 -4.98555556  3.27555556]\n",
      " [ 8.95888889 -7.60777778 11.00333333  9.19222222  8.90888889  9.10888889\n",
      "   9.15333333  9.18666667 -6.21333333  9.22        9.15333333  9.19222222\n",
      "   9.04222222  9.15333333 -6.08555556]\n",
      " [11.67555556 -4.89111111  9.19222222 11.90888889 11.62555556 11.82555556\n",
      "  11.84222222 11.87555556 -7.69111111 11.65888889 11.84222222 11.90888889\n",
      "  11.59222222 11.75888889 -7.59111111]\n",
      " [11.39222222 -5.17444444  8.90888889 11.62555556 11.81444444 11.57\n",
      "  11.61444444 11.62       -7.66888889 11.43111111 11.55888889 11.62555556\n",
      "  11.44777778 11.53111111 -7.59666667]\n",
      " [11.59222222 -4.86333333  9.10888889 11.82555556 11.57       11.88111111\n",
      "  11.75888889 11.79222222 -7.77444444 11.57555556 11.78666667 11.82555556\n",
      "  11.53666667 11.67555556 -7.59111111]\n",
      " [11.60888889 -4.93        9.15333333 11.84222222 11.61444444 11.75888889\n",
      "  11.88666667 11.80888889 -7.75777778 11.59222222 11.80333333 11.84222222\n",
      "  11.55333333 11.72       -7.63      ]\n",
      " [11.64222222 -4.92444444  9.18666667 11.87555556 11.62       11.79222222\n",
      "  11.80888889 11.89777778 -7.72444444 11.62555556 11.80888889 11.87555556\n",
      "  11.55888889 11.72555556 -7.56888889]\n",
      " [-7.53555556  3.28666667 -6.21333333 -7.69111111 -7.66888889 -7.77444444\n",
      "  -7.75777778 -7.72444444  5.37555556 -7.94111111 -7.70222222 -7.69111111\n",
      "  -7.61888889 -7.67444444  4.86444444]\n",
      " [11.42555556 -5.05777778  9.22       11.65888889 11.43111111 11.57555556\n",
      "  11.59222222 11.62555556 -7.94111111 11.82555556 11.59222222 11.65888889\n",
      "  11.42555556 11.56444444 -7.56333333]\n",
      " [11.60888889 -4.87444444  9.15333333 11.84222222 11.55888889 11.78666667\n",
      "  11.80333333 11.80888889 -7.70222222 11.59222222 11.88666667 11.84222222\n",
      "  11.52555556 11.69222222 -7.65777778]\n",
      " [11.67555556 -4.89111111  9.19222222 11.90888889 11.62555556 11.82555556\n",
      "  11.84222222 11.87555556 -7.69111111 11.65888889 11.84222222 11.90888889\n",
      "  11.59222222 11.75888889 -7.59111111]\n",
      " [11.38666667 -5.01333333  9.04222222 11.59222222 11.44777778 11.53666667\n",
      "  11.55333333 11.55888889 -7.61888889 11.42555556 11.52555556 11.59222222\n",
      "  11.80333333 11.44222222 -7.90777778]\n",
      " [11.55333333 -4.98555556  9.15333333 11.75888889 11.53111111 11.67555556\n",
      "  11.72       11.72555556 -7.67444444 11.56444444 11.69222222 11.75888889\n",
      "  11.44222222 11.85888889 -7.74111111]\n",
      " [-7.49111111  3.27555556 -6.08555556 -7.59111111 -7.59666667 -7.59111111\n",
      "  -7.63       -7.56888889  4.86444444 -7.56333333 -7.65777778 -7.59111111\n",
      "  -7.90777778 -7.74111111  5.40888889]]\n"
     ]
    }
   ],
   "source": [
    "print(M)"
   ]
  },
  {
   "cell_type": "code",
   "execution_count": 19,
   "metadata": {},
   "outputs": [
    {
     "name": "stdout",
     "output_type": "stream",
     "text": [
      "[0.5        0.95257413 0.5        0.5        0.5        0.5\n",
      " 0.5        0.5        0.95257413 0.5        0.5        0.5\n",
      " 0.5        0.5        0.95257413]\n"
     ]
    }
   ],
   "source": [
    "x1 = 1/(1 + np.exp(- np.inner(m,V[0]) ))\n",
    "print(x1)"
   ]
  },
  {
   "cell_type": "code",
   "execution_count": 25,
   "metadata": {},
   "outputs": [
    {
     "data": {
      "text/plain": [
       "True"
      ]
     },
     "execution_count": 25,
     "metadata": {},
     "output_type": "execute_result"
    }
   ],
   "source": [
    "not np.allclose(V[0], x1, rtol=0.1)"
   ]
  },
  {
   "cell_type": "code",
   "execution_count": null,
   "metadata": {},
   "outputs": [],
   "source": []
  },
  {
   "cell_type": "code",
   "execution_count": null,
   "metadata": {},
   "outputs": [],
   "source": []
  }
 ],
 "metadata": {
  "kernelspec": {
   "display_name": "Python 3",
   "language": "python",
   "name": "python3"
  },
  "language_info": {
   "codemirror_mode": {
    "name": "ipython",
    "version": 3
   },
   "file_extension": ".py",
   "mimetype": "text/x-python",
   "name": "python",
   "nbconvert_exporter": "python",
   "pygments_lexer": "ipython3",
   "version": "3.8.2"
  }
 },
 "nbformat": 4,
 "nbformat_minor": 4
}
