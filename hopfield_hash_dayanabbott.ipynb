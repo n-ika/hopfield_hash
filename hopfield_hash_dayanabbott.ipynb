{
 "cells": [
  {
   "cell_type": "markdown",
   "metadata": {},
   "source": [
    "# Hopfield Network With Hashing - Dayan & Abbott"
   ]
  },
  {
   "cell_type": "markdown",
   "metadata": {},
   "source": [
    "The following code takes as input .wav sound files and transforms each of them into MFCC vectors. These vectors are then each transformed into a hash. They are then used to train a Hopfield network. In this way, each sound vector becomes a memory pattern that can be accessed even if slightly corrupted."
   ]
  },
  {
   "cell_type": "markdown",
   "metadata": {},
   "source": [
    "This is a memory mechanism in a form of a Hopfield network. The stored items are called memory patterns. They are retrieved by a process of the input that is presented to the network dynamics which at some time step reaches a fixed stable point. This means that the input item has been recognized (i.e. there is a memory pattern identical or very similar to it).\n",
    "\n",
    "Even noisy sounds or those corrupted to some extent can be accessed. In other words, if the input is $x_1 + \\delta$ and the stored item is $x_1$, the network will still reach the fixed point of $x_1$ if $\\delta$ is small enough.\n",
    "\n",
    "Additionally, for storage purposes, sounds are transformed each into a hash - with this we reduce their dimensionality. This means we increase the storage capacity. \n",
    "\n",
    "### Load dependencies"
   ]
  },
  {
   "cell_type": "code",
   "execution_count": 2,
   "metadata": {},
   "outputs": [],
   "source": [
    "# First, we load some dependencies.\n",
    "import numpy as np\n",
    "import math\n",
    "import librosa\n",
    "import scipy.io.wavfile as wav\n",
    "import sys\n",
    "import glob\n",
    "import random"
   ]
  },
  {
   "cell_type": "code",
   "execution_count": 3,
   "metadata": {},
   "outputs": [],
   "source": [
    "# Folder with some wav files to test this script.\n",
    "folder_train = \"./wavs/\""
   ]
  },
  {
   "cell_type": "markdown",
   "metadata": {},
   "source": [
    "### Extract Features\n",
    "\n",
    "First, we need to transform the sounds into a readable format (here, MFCCs) that can be used for hashing."
   ]
  },
  {
   "cell_type": "code",
   "execution_count": 25,
   "metadata": {},
   "outputs": [],
   "source": [
    "def make_mfcc(folder):\n",
    "    \"\"\"\n",
    "    Go through the folder and find all (and only) files ending with .wav\n",
    "    Here, we transform each .wav file into MFCCs and then flatten them into one vector.\n",
    "    We do this because we want one hash per .wav file.\n",
    "    \n",
    "    Any file shorter than the longest file in the folder will be padded with values 0,\n",
    "    so that all concatenated file vectors are of the same length.\n",
    "    \n",
    "    Parameters\n",
    "    ----------\n",
    "    folder : path to folder with wav sounds\n",
    "    \n",
    "    Returns\n",
    "    -------\n",
    "    a list of flattened MFCC vectors\n",
    "    \"\"\"\n",
    "    vectors = []\n",
    "    for file in glob.glob(folder + \"*.wav\", recursive=True):\n",
    "        y, sr = librosa.load(file)\n",
    "        mfcc_feat = librosa.feature.mfcc(y=y, sr=sr)\n",
    "        vect = mfcc_feat.flatten()\n",
    "        vectors.append(vect)\n",
    "    # find the largest vector\n",
    "    max_length = len(max(vectors, key=lambda p: len(p)))\n",
    "    # append zeros to all the other vectors\n",
    "    for i in range(len(vectors)):\n",
    "        vectors[i] = np.pad(vect, (0,max_length-len(vect)))\n",
    "    return vectors"
   ]
  },
  {
   "cell_type": "markdown",
   "metadata": {},
   "source": [
    "### Hashing of features\n",
    "\n",
    "Now we will use these features and transform them into hash vectors, which we will use to store in our memory. We do this to facilitate memory storage: hashes are vectors with reduced dimensionality, with values mostly equal to 0 and a few of them equal to 1."
   ]
  },
  {
   "cell_type": "code",
   "execution_count": 12,
   "metadata": {},
   "outputs": [],
   "source": [
    "def hash_dim(d,k,m,seed):  \n",
    "    \n",
    "    \"\"\"\n",
    "    Define hash parameters.\n",
    "    The hash will be a matrix of the dimension = k*m\n",
    "    We choose a random number k of units of the vector.\n",
    "    \n",
    "    Parameters\n",
    "    ----------\n",
    "    d : num\n",
    "        Length of a random vector being stored\n",
    "    k : num\n",
    "        Number of units we randomly choose of the vector\n",
    "    m : num\n",
    "        Number of times we will  do the hashing for some vector\n",
    "    seed : num\n",
    "        We always want the same units randomly chosen\n",
    "        \n",
    "    Returns\n",
    "    -------\n",
    "    a numpy array \n",
    "        p of dimensions [k,m] represents randomly chosen dimensions\n",
    "    \n",
    "    \"\"\"   \n",
    "    \n",
    "    assert k <= d\n",
    "    p = np.zeros((m,k,))\n",
    "    np.random.seed(seed)\n",
    "    for i in range(m):\n",
    "        p[i] = np.random.permutation(d)[:k]\n",
    "    return p\n",
    "\n",
    "    \n",
    "def get_hash(vector, k, m, p): \n",
    "    \"\"\"\n",
    "    Transform a vector of speech into a hash\n",
    "    The hash will be a matrix of the dimension = k*m\n",
    "    \n",
    "    Once we have chosen k random dimensions, we look for the highest \n",
    "    value and turn it into 1. Everything else is 0.\n",
    "    We thus get sparse matrices.\n",
    "    We do this m times. Final output is h=k*m.\n",
    "    \n",
    "    Parameters\n",
    "    ----------\n",
    "    vector : np.array\n",
    "        Features (i.e. MFCC) of some sound with dim = 1*n\n",
    "    k : num\n",
    "        Number of units we randomly choose of the vector\n",
    "    m : num\n",
    "        Number of times we will do the hashing for some vector.\n",
    "    p : numpy array\n",
    "        p of dimensions [k,m] represents randomly chosen dimensions\n",
    "        \n",
    "    Returns\n",
    "    -------\n",
    "    a numpy array h of size [1, k*m]\n",
    "    \"\"\"\n",
    "    \n",
    "    h = np.zeros((m,k,))\n",
    "    for i in range(m):\n",
    "        p_line = p[i]\n",
    "        ix = np.argmax(vector[p_line])\n",
    "        hi = np.zeros(k)\n",
    "        hi[ix] = 1\n",
    "        h[i] = hi\n",
    "    h = np.hstack(h)\n",
    "    return h"
   ]
  },
  {
   "cell_type": "code",
   "execution_count": 13,
   "metadata": {},
   "outputs": [
    {
     "name": "stdout",
     "output_type": "stream",
     "text": [
      "This is a test hash:  [1. 0. 0. 0. 0. 1.]\n"
     ]
    }
   ],
   "source": [
    "# TEST\n",
    "\n",
    "expected_h = np.array([[1,0,0],[0,0,1]]).flatten()\n",
    "vector = np.array([6,4,5,9,2])\n",
    "p0 = hash_dim(len(vector),3,2,2).astype(int)\n",
    "print(\"This is a test hash: \", get_hash(vector, 3, 2, p0))\n",
    "assert get_hash(vector, 3, 2, p0).all() == expected_h.all()"
   ]
  },
  {
   "cell_type": "markdown",
   "metadata": {},
   "source": [
    "### Memory storage\n",
    "\n",
    "Hopfield network consists of a dynammic network where we can store memories. In particular, the storage is the symmetric recurrent weight matrix that is trained with memory patterns (presented as hash vectors) we are storing. This results with each of them becoming a fixed point of the network. Once we want to \"retrieve\" a memory pattern, we need to find one of the fixed points. "
   ]
  },
  {
   "cell_type": "code",
   "execution_count": 14,
   "metadata": {},
   "outputs": [],
   "source": [
    "def get_m(lmbda, alpha, c, N, V):\n",
    "    \"\"\"\n",
    "    Obtain the matrix M (symmetric recurrent weight matrix) representing memory storage.\n",
    "    \n",
    "    Parameters\n",
    "    ----------\n",
    "    lmbda : num\n",
    "        Eigenvalue represented as a lambda\n",
    "    alpha : num\n",
    "        Number representing the amount of active units\n",
    "    c : num\n",
    "        Constant value of active components, inactive have 0\n",
    "    N : num\n",
    "        Number of neurons used\n",
    "    V : list\n",
    "        A list of vectors in a hashed form\n",
    "        \n",
    "    Returns\n",
    "    -------\n",
    "    a numpy array m \n",
    "    \"\"\"\n",
    "    # n is a vector of ones\n",
    "    n = np.ones(N)\n",
    "\n",
    "    vect_sum = np.zeros((N,N))\n",
    "    for vect in V:\n",
    "        outer_prod = np.outer((vect - alpha * c * n),(vect - alpha * c * n))\n",
    "        vect_sum += outer_prod\n",
    "\n",
    "    m = (lmbda / (pow(c,2)*alpha*N*(1-alpha))) \\\n",
    "        * vect_sum \\\n",
    "        - (np.outer(n,n) / (alpha*N))\n",
    "    return m"
   ]
  },
  {
   "cell_type": "markdown",
   "metadata": {},
   "source": [
    "We need to determine what is a fixed point of the network. That is, we want to know when the system is stable. When the system is stable, this indicated we have retrieved a memory stored in our network.  "
   ]
  },
  {
   "cell_type": "code",
   "execution_count": 15,
   "metadata": {},
   "outputs": [],
   "source": [
    "def has_converged(x0, x1, tau):\n",
    "    \"\"\"\n",
    "    Decides whether the system has converged.\n",
    "    \n",
    "    Parameters\n",
    "    ----------\n",
    "    x0 : num\n",
    "        A point from the moment t-1\n",
    "    x1 : num\n",
    "        Updated point from the moment t\n",
    "    tau : num\n",
    "        Number representing the threshold\n",
    "        \n",
    "    Returns\n",
    "    -------\n",
    "    boolean : True or False\n",
    "    \"\"\"\n",
    "#     return math.isclose(x0, x1, rel_tol=tau) \n",
    "    return np.allclose(x0, x1, rtol=tau)\n",
    "\n",
    "def fixed_point(x0, m, tau, i):\n",
    "    \"\"\"\n",
    "    Decides whether a fixed point of the system was reached.\n",
    "    This means we have retrieved a memory.\n",
    "    Memory pattern satisfies v_m = F(M * v_m) (i.e. is a fixed point)\n",
    "    We use a sigmoid function as F: F = 1/(1+np.exp(-x))\n",
    "    \n",
    "    Parameters\n",
    "    ----------\n",
    "    x0 : num\n",
    "        A point we start evaluating the system from\n",
    "    m : numpy array\n",
    "        Symmetric recurrent weight matrix (memory storage)\n",
    "    tau : num\n",
    "        Number representing the threshold\n",
    "    i : num\n",
    "        Index at which we start\n",
    "        \n",
    "    Returns\n",
    "    -------\n",
    "    x1 : fixed point of the system, given that we started at x0\n",
    "    \"\"\"\n",
    "    x1 = 1/(1 + np.exp(- np.inner(m,x0) ))\n",
    "    if not has_converged(x0, x1, tau):\n",
    "        print(\"Step: \", i)\n",
    "        i += 1\n",
    "        return fixed_point(x1, m, tau, i)\n",
    "    else:\n",
    "        return x1\n",
    "\n",
    "#     if F == None:\n",
    "#         x1 = 1/(1 + np.exp(- np.inner(m,x0) ))\n",
    "#     else:\n",
    "#         x1 = F*x0\n",
    "    \n",
    "#     if convergence_criterion(x0, x1, tau):\n",
    "#         return x1\n",
    "#     else:\n",
    "#         i += 1\n",
    "#         print(i)\n",
    "#         return fixed_point(x1, tau, F)"
   ]
  },
  {
   "cell_type": "code",
   "execution_count": 16,
   "metadata": {},
   "outputs": [],
   "source": [
    "# Test:\n",
    "\n",
    "k = 5\n",
    "m = 3\n",
    "lmbda = 0.1\n",
    "alpha = 0.6\n",
    "c = 1\n",
    "N = 15\n",
    "V =[]\n",
    "\n",
    "vect_length = 15\n",
    "\n",
    "p = hash_dim(vect_length,k,m,27).astype(int)\n",
    "mfccs_vectors = make_mfcc(folder_train)\n",
    "for vect in mfccs_vectors:\n",
    "    v = get_hash(vect, k, m, p)\n",
    "    V.append(v)\n",
    "\n",
    "M = get_m(lmbda, alpha, c, N, V)\n"
   ]
  },
  {
   "cell_type": "code",
   "execution_count": 17,
   "metadata": {},
   "outputs": [
    {
     "name": "stdout",
     "output_type": "stream",
     "text": [
      "[0. 0. 0. 1. 0. 0. 0. 0. 1. 0. 0. 0. 1. 0. 0.]\n",
      "Step:  0\n",
      "Step:  1\n",
      "Step:  2\n",
      "[1.         1.         1.         0.99998091 1.         1.\n",
      " 1.         1.         1.         1.         1.         1.\n",
      " 1.         1.         1.        ]\n",
      "Step:  0\n",
      "Step:  1\n",
      "[1.         1.         1.         0.99998092 1.         1.\n",
      " 1.         1.         1.         1.         1.         1.\n",
      " 1.         1.         1.        ]\n",
      "Step:  0\n",
      "[1.         1.         1.         0.99998091 1.         1.\n",
      " 1.         1.         1.         1.         1.         1.\n",
      " 1.         1.         1.        ]\n",
      "[1.         1.         1.         0.99998092 1.         1.\n",
      " 1.         1.         1.         1.         1.         1.\n",
      " 1.         1.         1.        ]\n"
     ]
    }
   ],
   "source": [
    "# Test to get to fixed poind\n",
    "\n",
    "tau1 = 0.000001\n",
    "tau2 = 0.1\n",
    "# x0_1 is a vector similar to a memory pattern that is stored\n",
    "x0_1 = V[0]\n",
    "print(V[0])\n",
    "# x0_2 is a vector very different from any memory pattern stored\n",
    "x0_2 = np.array([1., 1., 1., 1., 1., 1., 1., 1., 1., 1., 1., 1., 1., 1., 1.])\n",
    "\n",
    "print(fixed_point(x0_1, M, tau1, 0))\n",
    "\n",
    "print(fixed_point(x0_1, M, tau2, 0))\n",
    "\n",
    "# This is problematic: x0_2 is not even nearly similar to any of the stored patterns, \n",
    "# yet w reach the local minimum/fixed point\n",
    "\n",
    "print(fixed_point(x0_2, M, tau1, 0))\n",
    "\n",
    "print(fixed_point(x0_2, M, tau2, 0))"
   ]
  },
  {
   "cell_type": "code",
   "execution_count": 18,
   "metadata": {},
   "outputs": [
    {
     "name": "stdout",
     "output_type": "stream",
     "text": [
      "[[10.74777778  6.29222222  6.74222222 -2.34111111  6.45888889  8.41444444\n",
      "   5.51444444  6.99777778  0.08111111  6.89222222  8.28111111  6.88666667\n",
      "   0.13111111  7.50333333  5.09777778]\n",
      " [ 6.29222222 11.19777778  8.09222222 -0.99111111  7.80888889  6.76444444\n",
      "   8.94777778  7.95888889  1.29222222  7.43666667  7.82555556  8.90333333\n",
      "   0.23111111  8.82555556  6.61444444]\n",
      " [ 6.74222222  8.09222222 11.34777778 -0.54111111  8.25888889  7.29777778\n",
      "   7.89777778  8.71444444  1.93666667  8.05333333  7.19222222  9.82555556\n",
      "   0.45888889  9.49777778  6.92555556]\n",
      " [-2.34111111 -0.99111111 -0.54111111  8.32       -0.82444444 -0.81333333\n",
      "  -1.18555556  0.90888889  5.54777778 -0.83555556 -1.25222222  0.04777778\n",
      "   5.62555556  0.49777778 -1.29666667]\n",
      " [ 6.45888889  7.80888889  8.25888889 -0.82444444 11.25333333  7.34777778\n",
      "   7.61444444  8.32        1.82        7.85333333  7.07555556  8.62555556\n",
      "   0.23111111  9.74222222  7.28111111]\n",
      " [ 8.41444444  6.76444444  7.29777778 -0.81333333  7.34777778 10.85888889\n",
      "   5.54222222  6.77555556  0.10888889  5.72555556  7.17        7.38666667\n",
      "   0.85333333  8.03111111  5.57      ]\n",
      " [ 5.51444444  8.94777778  7.89777778 -1.18555556  7.61444444  5.54222222\n",
      "  10.83666667  6.70888889  0.04222222  5.65888889  6.54777778  8.57\n",
      "  -0.88        8.27        6.28111111]\n",
      " [ 6.99777778  7.95888889  8.71444444  0.90888889  8.32        6.77555556\n",
      "   6.70888889 11.24777778  1.27555556  6.89222222  6.97555556  8.49777778\n",
      "   2.04777778  8.97555556  6.40333333]\n",
      " [ 0.08111111  1.29222222  1.93666667  5.54777778  1.82        0.10888889\n",
      "   0.04222222  1.27555556  9.02555556  0.22555556  0.42        1.99777778\n",
      "   5.49222222  2.47555556  0.29222222]\n",
      " [ 6.89222222  7.43666667  8.05333333 -0.83555556  7.85333333  5.72555556\n",
      "   5.65888889  6.89222222  0.22555556 10.89777778  8.00888889  7.83666667\n",
      "  -0.83555556  8.31444444  6.07555556]\n",
      " [ 8.28111111  7.82555556  7.19222222 -1.25222222  7.07555556  7.17\n",
      "   6.54777778  6.97555556  0.42        8.00888889 10.87        7.22555556\n",
      "  -1.05777778  7.75888889  4.32555556]\n",
      " [ 6.88666667  8.90333333  9.82555556  0.04777778  8.62555556  7.38666667\n",
      "   8.57        8.49777778  1.99777778  7.83666667  7.22555556 11.38666667\n",
      "   0.49222222  9.30888889  5.87555556]\n",
      " [ 0.13111111  0.23111111  0.45888889  5.62555556  0.23111111  0.85333333\n",
      "  -0.88        2.04777778  5.49222222 -0.83555556 -1.05777778  0.49222222\n",
      "   8.62555556  1.02555556 -2.40777778]\n",
      " [ 7.50333333  8.82555556  9.49777778  0.49777778  9.74222222  8.03111111\n",
      "   8.27        8.97555556  2.47555556  8.31444444  7.75888889  9.30888889\n",
      "   1.02555556 11.56444444  6.40888889]\n",
      " [ 5.09777778  6.61444444  6.92555556 -1.29666667  7.28111111  5.57\n",
      "   6.28111111  6.40333333  0.29222222  6.07555556  4.32555556  5.87555556\n",
      "  -2.40777778  6.40888889 10.42      ]]\n"
     ]
    }
   ],
   "source": [
    "print(M)"
   ]
  },
  {
   "cell_type": "code",
   "execution_count": 20,
   "metadata": {},
   "outputs": [],
   "source": [
    "import pickle\n",
    "with open(\"test.txt\", \"wb\") as fp:\n",
    "    pickle.dump(mfccs_vectors, fp)"
   ]
  },
  {
   "cell_type": "code",
   "execution_count": 38,
   "metadata": {},
   "outputs": [
    {
     "data": {
      "text/plain": [
       "8232140"
      ]
     },
     "execution_count": 38,
     "metadata": {},
     "output_type": "execute_result"
    }
   ],
   "source": [
    "len(max(mfccs_vectors, key=lambda p: len(p)))"
   ]
  },
  {
   "cell_type": "code",
   "execution_count": null,
   "metadata": {},
   "outputs": [],
   "source": []
  }
 ],
 "metadata": {
  "kernelspec": {
   "display_name": "Python 3",
   "language": "python",
   "name": "python3"
  },
  "language_info": {
   "codemirror_mode": {
    "name": "ipython",
    "version": 3
   },
   "file_extension": ".py",
   "mimetype": "text/x-python",
   "name": "python",
   "nbconvert_exporter": "python",
   "pygments_lexer": "ipython3",
   "version": "3.8.2"
  }
 },
 "nbformat": 4,
 "nbformat_minor": 4
}
